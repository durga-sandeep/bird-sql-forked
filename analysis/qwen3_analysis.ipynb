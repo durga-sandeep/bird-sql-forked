{
 "cells": [
  {
   "cell_type": "code",
   "execution_count": 1,
   "id": "7ddc49b4",
   "metadata": {},
   "outputs": [],
   "source": [
    "from pathlib import Path\n",
    "BASE_DIR = Path(\"/Users/dsaluru/Desktop/GPU/bird-sql-forked/save_data/qwen3/\")\n",
    "\n",
    "GENERATION_DIR = BASE_DIR / \"generations\"\n",
    "RESULTS_DIR = BASE_DIR / \"with_results\"\n",
    "REWARD_DIR = BASE_DIR / \"with_rewards\""
   ]
  },
  {
   "cell_type": "markdown",
   "id": "af6057f6",
   "metadata": {},
   "source": [
    "### Generations"
   ]
  },
  {
   "cell_type": "code",
   "execution_count": 2,
   "id": "02ac9d5d",
   "metadata": {},
   "outputs": [],
   "source": [
    "# load the generations jsonl file - data_gen.jsonl\n",
    "import json\n",
    "\n",
    "final_generations_data = {}\n",
    "with open(GENERATION_DIR / \"data_gen.jsonl\", \"r\") as f:\n",
    "    for line in f:\n",
    "        data = json.loads(line)\n",
    "\n",
    "        if data['question_id'] not in final_generations_data:\n",
    "            final_generations_data[data['question_id']] = {\n",
    "                'question_id' : data['question_id'],\n",
    "                'db_id' : data['db_id'],\n",
    "                'question' : data['question'],\n",
    "                'evidence' : data['evidence'],\n",
    "                'SQL' : data['SQL'],\n",
    "                'difficulty' : data['difficulty'],\n",
    "                'responses' : []\n",
    "            }\n",
    "        curr_responses = []\n",
    "        for item in data['responses']:\n",
    "            curr_responses.append(data['responses'][item]['content'])\n",
    "        final_generations_data[data['question_id']]['responses'] += curr_responses\n",
    "\n",
    "\n"
   ]
  },
  {
   "cell_type": "code",
   "execution_count": 3,
   "id": "1017a9c0",
   "metadata": {},
   "outputs": [
    {
     "name": "stdout",
     "output_type": "stream",
     "text": [
      "95.73\n"
     ]
    }
   ],
   "source": [
    "mean_responses = 0\n",
    "for key in final_generations_data:\n",
    "    mean_responses += len(final_generations_data[key]['responses'])\n",
    "mean_responses /= len(final_generations_data)\n",
    "print(mean_responses)\n"
   ]
  },
  {
   "cell_type": "code",
   "execution_count": 4,
   "id": "473ecb2b",
   "metadata": {},
   "outputs": [
    {
     "data": {
      "text/plain": [
       "SELECT AVG(Consumption) / 12.0 AS average_monthly_consumption\\nFROM yearmonth AS Y\\nJOIN customers AS C ON Y.CustomerID = C.CustomerID\\nWHERE C.Segment = 'SME'\\nAND Y.Date BETWEEN '201301' AND '201312'                                                                 10\n",
       "SELECT AVG(Consumption) / 12.0 AS average_monthly_consumption\\nFROM yearmonth AS Y\\nJOIN customers AS C ON Y.CustomerID = C.CustomerID\\nWHERE C.Segment = 'SME'\\n  AND Y.Date BETWEEN '201301' AND '201312'                                                                7\n",
       "SELECT AVG(Consumption) / 12.0 AS average_monthly_consumption\\nFROM yearmonth AS y\\nJOIN customers AS c ON y.CustomerID = c.CustomerID\\nWHERE c.Segment = 'SME'\\n  AND y.Date BETWEEN '201301' AND '201312'                                                                6\n",
       "SELECT AVG(Consumption) / 12.0 AS average_monthly_consumption\\nFROM yearmonth AS y\\nJOIN customers AS c ON y.CustomerID = c.CustomerID\\nWHERE c.Segment = 'SME'\\nAND y.Date BETWEEN '201301' AND '201312'                                                                  6\n",
       "SELECT AVG(Consumption) / 12.0 AS average_monthly_consumption\\nFROM yearmonth y\\nJOIN customers c ON y.CustomerID = c.CustomerID\\nWHERE c.Segment = 'SME'\\n  AND y.Date BETWEEN '201301' AND '201312'                                                                      5\n",
       "SELECT AVG(Consumption) / 12.0 AS average_monthly_consumption\\nFROM yearmonth y\\nJOIN customers c ON y.CustomerID = c.CustomerID\\nWHERE c.Segment = 'SME'\\nAND y.Date BETWEEN '201301' AND '201312'                                                                        5\n",
       "SELECT AVG(Consumption) / 12 AS average_monthly_consumption\\nFROM yearmonth y\\nJOIN customers c ON y.CustomerID = c.CustomerID\\nWHERE c.Segment = 'SME'\\nAND y.Date BETWEEN '201301' AND '201312'                                                                          4\n",
       "SELECT AVG(Consumption) / 12.0 AS average_monthly_consumption \\nFROM yearmonth AS Y \\nJOIN customers AS C ON Y.CustomerID = C.CustomerID \\nWHERE C.Segment = 'SME' \\nAND Y.Date BETWEEN '201301' AND '201312'                                                              4\n",
       "SELECT AVG(Consumption) / 12.0 AS average_monthly_consumption \\nFROM yearmonth AS T1 \\nJOIN customers AS T2 ON T1.CustomerID = T2.CustomerID \\nWHERE T2.Segment = 'SME' \\nAND T1.Date BETWEEN '201301' AND '201312'                                                        3\n",
       "SELECT AVG(Consumption) / 12.0 AS average_monthly_consumption\\nFROM yearmonth AS YM\\nJOIN customers AS C ON YM.CustomerID = C.CustomerID\\nWHERE C.Segment = 'SME'\\nAND YM.Date BETWEEN '201301' AND '201312'                                                               3\n",
       "SELECT AVG(y.Consumption) / 12.0 AS average_monthly_consumption\\nFROM yearmonth y\\nJOIN customers c ON y.CustomerID = c.CustomerID\\nWHERE c.Segment = 'SME'\\n  AND y.Date BETWEEN '201301' AND '201312'                                                                    3\n",
       "SELECT AVG(Consumption) / 12.0 AS average_monthly_consumption \\nFROM yearmonth AS YM \\nJOIN customers AS C ON YM.CustomerID = C.CustomerID \\nWHERE C.Segment = 'SME' \\nAND YM.Date BETWEEN '201301' AND '201312'                                                           3\n",
       "SELECT AVG(Consumption) / 12.0 AS average_monthly_consumption\\nFROM yearmonth AS YM\\nJOIN customers AS C ON YM.CustomerID = C.CustomerID\\nWHERE C.Segment = 'SME'\\n  AND YM.Date BETWEEN '201301' AND '201312'                                                             3\n",
       "SELECT AVG(Consumption) / 12.0 AS average_monthly_consumption\\nFROM yearmonth AS T1\\nJOIN customers AS T2 ON T1.CustomerID = T2.CustomerID\\nWHERE T2.Segment = 'SME'\\nAND T1.Date BETWEEN '201301' AND '201312'                                                            2\n",
       "SELECT AVG(Consumption) / 12.0 AS average_monthly_consumption \\nFROM yearmonth AS y \\nJOIN customers AS c ON y.CustomerID = c.CustomerID \\nWHERE c.Segment = 'SME' \\nAND y.Date BETWEEN '201301' AND '201312'                                                              2\n",
       "SELECT AVG(CAST(Consumption AS REAL) / 12) AS average_monthly_consumption\\nFROM yearmonth AS Y\\nJOIN customers AS C ON Y.CustomerID = C.CustomerID\\nWHERE C.Segment = 'SME'\\n  AND Y.Date BETWEEN '201301' AND '201312'                                                    2\n",
       "SELECT AVG(Consumption) / 12 AS average_monthly_consumption\\nFROM yearmonth y\\nJOIN customers c ON y.CustomerID = c.CustomerID\\nWHERE c.Segment = 'SME'\\n  AND y.Date BETWEEN '201301' AND '201312'                                                                        2\n",
       "SELECT AVG(t1.Consumption) / 12.0 AS average_monthly_consumption\\nFROM yearmonth AS t1\\nJOIN customers AS t2 ON t1.CustomerID = t2.CustomerID\\nWHERE t2.Segment = 'SME'\\nAND t1.Date BETWEEN '201301' AND '201312'                                                         2\n",
       "SELECT AVG(T1.Consumption) / 12.0 AS average_monthly_consumption\\nFROM yearmonth AS T1\\nJOIN customers AS T2 ON T1.CustomerID = T2.CustomerID\\nWHERE T2.Segment = 'SME'\\n  AND T1.Date BETWEEN '201301' AND '201312'                                                       2\n",
       "SELECT AVG(CAST(y.Consumption AS REAL) / 12) AS average_monthly_consumption\\nFROM yearmonth y\\nJOIN customers c ON y.CustomerID = c.CustomerID\\nWHERE c.Segment = 'SME'\\n  AND y.Date BETWEEN '201301' AND '201312'                                                        1\n",
       "SELECT AVG(CAST(Consumption AS REAL) / 12) AS average_monthly_consumption\\nFROM yearmonth AS y\\nJOIN customers AS c ON y.CustomerID = c.CustomerID\\nWHERE c.Segment = 'SME'\\n  AND y.Date BETWEEN '201301' AND '201312'                                                    1\n",
       "SELECT AVG(T1.Consumption) / 12.0 AS average_monthly_consumption\\nFROM yearmonth AS T1\\nJOIN customers AS T2 ON T1.CustomerID = T2.CustomerID\\nWHERE T2.Segment = 'SME'\\nAND T1.Date BETWEEN '201301' AND '201312'                                                         1\n",
       "SELECT AVG(Consumption) / 12 AS average_monthly_consumption\\nFROM yearmonth AS YM\\nJOIN customers AS C ON YM.CustomerID = C.CustomerID\\nWHERE C.Segment = 'SME'\\nAND YM.Date BETWEEN '201301' AND '201312'                                                                 1\n",
       "SELECT AVG(yt.Consumption) / 12 AS average_monthly_consumption\\nFROM yearmonth yt\\nJOIN customers c ON yt.CustomerID = c.CustomerID\\nWHERE c.Segment = 'SME'\\n  AND yt.Date BETWEEN '201301' AND '201312'                                                                  1\n",
       "SELECT AVG(Consumption) / 12 AS average_monthly_consumption\\nFROM yearmonth AS y\\nJOIN customers AS c ON y.CustomerID = c.CustomerID\\nWHERE c.Segment = 'SME'\\n  AND y.Date BETWEEN '201301' AND '201312'                                                                  1\n",
       "SELECT AVG(Consumption) / 12 AS average_monthly_consumption \\nFROM yearmonth AS y \\nJOIN customers AS c ON y.CustomerID = c.CustomerID \\nWHERE c.Segment = 'SME' \\nAND y.Date BETWEEN '201301' AND '201312'                                                                1\n",
       "SELECT AVG(Consumption) / 12.0 AS average_monthly_consumption\\nFROM yearmonth AS T1\\nJOIN customers AS T2 ON T1.CustomerID = T2.CustomerID\\nWHERE T2.Segment = 'SME'\\n  AND T1.Date BETWEEN '201301' AND '201312'                                                          1\n",
       "SELECT AVG(Consumption) / 12.0 AS average_monthly_consumption\\nFROM yearmonth y\\nJOIN customers c ON y.CustomerID = c.CustomerID\\nWHERE c.Segment = 'SME'\\n  AND CAST(SUBSTR(y.Date, 1, 4) AS INTEGER) = 2013\\n  AND CAST(y.Date AS INTEGER) BETWEEN 201301 AND 201312     1\n",
       "SELECT AVG(Consumption) / 12.0 AS average_monthly_consumption\\nFROM yearmonth AS Y\\nJOIN customers AS C ON Y.CustomerID = C.CustomerID\\nWHERE C.Segment = 'SME'\\nAND Y.Date BETWEEN '201301' AND '201312'\\nAND SUBSTR(Y.Date, 1, 4) = '2013'                               1\n",
       "SELECT AVG(Consumption) / 12 AS average_monthly_consumption \\nFROM yearmonth AS Y \\nJOIN customers AS C ON Y.CustomerID = C.CustomerID \\nWHERE C.Segment = 'SME' \\nAND Y.Date BETWEEN '201301' AND '201312'                                                                1\n",
       "SELECT AVG(Consumption) / 12.0 AS average_monthly_consumption\\nFROM yearmonth y\\nJOIN customers c ON y.CustomerID = c.CustomerID\\nWHERE c.Segment = 'SME'\\n  AND y.Date BETWEEN '201301' AND '201312'\\n  AND SUBSTR(y.Date, 1, 4) = '2013'                                 1\n",
       "SELECT AVG(Consumption) / 12.0 AS average_monthly_consumption\\nFROM yearmonth y\\nJOIN customers c ON y.CustomerID = c.CustomerID\\nWHERE c.Segment = 'SME'\\n  AND CAST(LEFT(y.Date, 4) AS INTEGER) = 2013\\n  AND CAST(y.Date AS INTEGER) BETWEEN 201301 AND 201312          1\n",
       "SELECT (AVG(Consumption) / 12) AS average_monthly_consumption \\nFROM yearmonth \\nJOIN customers ON yearmonth.CustomerID = customers.CustomerID \\nWHERE customers.Segment = 'SME' \\nAND (yearmonth.Date BETWEEN '201301' AND '201312')                                      1\n",
       "SELECT AVG(Consumption) / 12.0 AS average_monthly_consumption\\nFROM yearmonth Y\\nJOIN customers C ON Y.CustomerID = C.CustomerID\\nWHERE C.Segment = 'SME'\\n  AND Y.Date BETWEEN '201301' AND '201312'                                                                      1\n",
       "SELECT AVG(Consumption) / 12.0 AS average_monthly_consumption\\nFROM yearmonth AS y\\nJOIN customers AS c ON y.CustomerID = c.CustomerID\\nWHERE c.Segment = 'SME'\\nAND y.Date BETWEEN '201301' AND '201312'\\nGROUP BY c.CustomerID                                           1\n",
       "SELECT AVG(y.Consumption) / 12 AS average_monthly_consumption\\nFROM yearmonth y\\nJOIN customers c ON y.CustomerID = c.CustomerID\\nWHERE c.Segment = 'SME'\\n  AND y.Date BETWEEN '201301' AND '201312'                                                                      1\n",
       "SELECT AVG(Consumption) / 12.0 AS average_monthly_consumption \\nFROM yearmonth AS ym \\nJOIN customers AS c ON ym.CustomerID = c.CustomerID \\nWHERE c.Segment = 'SME' \\nAND ym.Date BETWEEN '201301' AND '201312'                                                           1\n",
       "SELECT AVG(t1.Consumption) / 12.0 AS average_monthly_consumption\\nFROM yearmonth t1\\nJOIN customers t2 ON t1.CustomerID = t2.CustomerID\\nWHERE t2.Segment = 'SME'\\n  AND t1.Date BETWEEN '201301' AND '201312'                                                             1\n",
       "SELECT AVG(t.Consumption) / 12 AS average_monthly_consumption\\nFROM yearmonth t\\nJOIN customers c ON t.CustomerID = c.CustomerID\\nWHERE c.Segment = 'SME'\\nAND t.Date BETWEEN '201301' AND '201312'                                                                        1\n",
       "SELECT AVG(t.Consumption) / 12.0 AS average_monthly_consumption\\nFROM yearmonth t\\nJOIN customers c ON t.CustomerID = c.CustomerID\\nWHERE c.Segment = 'SME'\\n  AND t.Date BETWEEN '201301' AND '201312'                                                                    1\n",
       "SELECT AVG(y.Consumption) / 12.0 AS average_monthly_consumption\\nFROM yearmonth y\\nJOIN customers c ON y.CustomerID = c.CustomerID\\nWHERE c.Segment = 'SME'\\nAND y.Date BETWEEN '201301' AND '201312'                                                                      1\n",
       "SELECT AVG(Consumption) / 12.0 AS average_monthly_consumption \\nFROM yearmonth \\nJOIN customers ON yearmonth.CustomerID = customers.CustomerID \\nWHERE customers.Segment = 'SME' \\nAND yearmonth.Date BETWEEN '201301' AND '201312'                                        1\n",
       "SELECT AVG(Consumption) / 12 AS average_monthly_consumption\\nFROM yearmonth AS T1\\nJOIN customers AS T2 ON T1.CustomerID = T2.CustomerID\\nWHERE T2.Segment = 'SME'\\nAND T1.Date BETWEEN '201301' AND '201312'                                                              1\n",
       "Name: count, dtype: int64"
      ]
     },
     "execution_count": 4,
     "metadata": {},
     "output_type": "execute_result"
    }
   ],
   "source": [
    "import pandas as pd\n",
    "pd.Series(final_generations_data[1473]['responses']).value_counts()"
   ]
  },
  {
   "cell_type": "markdown",
   "id": "360570e7",
   "metadata": {},
   "source": [
    "### With Results"
   ]
  },
  {
   "cell_type": "code",
   "execution_count": 5,
   "id": "1e8f5986",
   "metadata": {},
   "outputs": [],
   "source": [
    "final_results_data = {}\n",
    "with open(RESULTS_DIR / \"data_with_results.jsonl\", \"r\") as f:\n",
    "    for line in f:\n",
    "        data = json.loads(line)\n",
    "\n",
    "        if data['question_id'] not in final_results_data:\n",
    "            final_results_data[data['question_id']] = {\n",
    "                'question_id' : data['question_id'],\n",
    "                'db_id' : data['db_id'],\n",
    "                'question' : data['question'],\n",
    "                'evidence' : data['evidence'],\n",
    "                'SQL' : data['SQL'],\n",
    "                'difficulty' : data['difficulty'],\n",
    "                'responses' : []\n",
    "            }\n",
    "        curr_responses = []\n",
    "        for item in data['responses']:\n",
    "            curr_responses.append((data['responses'][item]['content'], data['responses'][item]['evaluation']))\n",
    "        final_results_data[data['question_id']]['responses'] += curr_responses"
   ]
  },
  {
   "cell_type": "code",
   "execution_count": 6,
   "id": "b74ed7e2",
   "metadata": {},
   "outputs": [
    {
     "name": "stdout",
     "output_type": "stream",
     "text": [
      "52.02\n"
     ]
    }
   ],
   "source": [
    "mean_responses = 0\n",
    "for key in final_results_data:\n",
    "    mean_responses += len(final_results_data[key]['responses'])\n",
    "mean_responses /= len(final_results_data)\n",
    "print(mean_responses)\n"
   ]
  },
  {
   "cell_type": "code",
   "execution_count": 7,
   "id": "d94ea47f",
   "metadata": {},
   "outputs": [
    {
     "name": "stdout",
     "output_type": "stream",
     "text": [
      "key :  532\n",
      "key :  701\n",
      "key :  704\n",
      "key :  518\n",
      "42.83\n"
     ]
    }
   ],
   "source": [
    "import pandas as pd\n",
    "mean_pass = 0\n",
    "for key in final_results_data:\n",
    "    try:\n",
    "        mean_pass += pd.Series([x[1].split(':')[0] for x in final_results_data[key]['responses']]).value_counts()['pass']\n",
    "    except:\n",
    "        print(\"key : \", key)\n",
    "mean_pass /= len(final_results_data)\n",
    "print(mean_pass)"
   ]
  },
  {
   "cell_type": "markdown",
   "id": "f0b202cf",
   "metadata": {},
   "source": [
    "### with rewards"
   ]
  },
  {
   "cell_type": "code",
   "execution_count": 8,
   "id": "f30cd938",
   "metadata": {},
   "outputs": [],
   "source": [
    "final_rewards_data = {}\n",
    "with open(REWARD_DIR / \"data_reward_all.jsonl\", \"r\") as f:\n",
    "    for line in f:\n",
    "        data = json.loads(line)\n",
    "\n",
    "        if data['question_id'] not in final_rewards_data:\n",
    "            final_rewards_data[data['question_id']] = {\n",
    "                'question_id' : data['question_id'],\n",
    "                'db_id' : data['db_id'],\n",
    "                'question' : data['question'],\n",
    "                'evidence' : data['evidence'],\n",
    "                'SQL' : data['SQL'],\n",
    "                'difficulty' : data['difficulty'],\n",
    "                'responses' : []\n",
    "            }\n",
    "        curr_responses = []\n",
    "        for item in data['responses']:\n",
    "            if data['responses'][item]['evaluation'].split(':')[0] == 'pass' and data['responses'][item]['reward'] != None:\n",
    "                curr_responses.append((data['responses'][item]['content'], data['responses'][item]['evaluation'], data['responses'][item]['reward']))\n",
    "        final_rewards_data[data['question_id']]['responses'] += curr_responses"
   ]
  },
  {
   "cell_type": "code",
   "execution_count": 9,
   "id": "4d0e00cd",
   "metadata": {},
   "outputs": [
    {
     "name": "stdout",
     "output_type": "stream",
     "text": [
      "39.06\n"
     ]
    }
   ],
   "source": [
    "mean_responses = 0\n",
    "for key in final_rewards_data:\n",
    "    mean_responses += len(final_rewards_data[key]['responses'])\n",
    "mean_responses /= len(final_rewards_data)\n",
    "print(mean_responses)\n"
   ]
  },
  {
   "cell_type": "code",
   "execution_count": 10,
   "id": "ee085897",
   "metadata": {},
   "outputs": [],
   "source": [
    "# sort the responses by reward\n",
    "\n",
    "for key in final_rewards_data:\n",
    "    final_rewards_data[key]['responses'].sort(key=lambda x: x[2], reverse=True)\n"
   ]
  },
  {
   "cell_type": "code",
   "execution_count": 11,
   "id": "bcd8c8f6",
   "metadata": {},
   "outputs": [
    {
     "name": "stdout",
     "output_type": "stream",
     "text": [
      "accuracy for k =  1  is  0.682\n",
      "accuracy for k =  2  is  0.702\n",
      "accuracy for k =  3  is  0.712\n",
      "accuracy for k =  4  is  0.714\n",
      "accuracy for k =  5  is  0.716\n",
      "accuracy for k =  6  is  0.72\n",
      "accuracy for k =  7  is  0.724\n",
      "accuracy for k =  8  is  0.724\n",
      "accuracy for k =  9  is  0.726\n",
      "accuracy for k =  10  is  0.728\n",
      "accuracy for k =  11  is  0.728\n",
      "accuracy for k =  12  is  0.73\n",
      "accuracy for k =  13  is  0.734\n",
      "accuracy for k =  14  is  0.738\n",
      "accuracy for k =  15  is  0.744\n",
      "accuracy for k =  16  is  0.744\n",
      "accuracy for k =  17  is  0.744\n",
      "accuracy for k =  18  is  0.744\n",
      "accuracy for k =  19  is  0.744\n"
     ]
    }
   ],
   "source": [
    "\n",
    "for k in range(1, 20):\n",
    "    accuracy = 0\n",
    "    for key in final_rewards_data:\n",
    "        all_candidates_rewards = [x[1] for x in final_rewards_data[key]['responses']]\n",
    "        top_k_candidates_rewards = all_candidates_rewards[:k]\n",
    "        if len(final_rewards_data[key]['responses']) > 0:\n",
    "            if 'pass: correct' in top_k_candidates_rewards:\n",
    "                accuracy += 1\n",
    "    accuracy /= len(final_rewards_data)\n",
    "    print(\"accuracy for k = \", k, \" is \", accuracy)\n"
   ]
  },
  {
   "cell_type": "code",
   "execution_count": null,
   "id": "078f39a0",
   "metadata": {},
   "outputs": [],
   "source": []
  }
 ],
 "metadata": {
  "kernelspec": {
   "display_name": "contextual-ai",
   "language": "python",
   "name": "python3"
  },
  "language_info": {
   "codemirror_mode": {
    "name": "ipython",
    "version": 3
   },
   "file_extension": ".py",
   "mimetype": "text/x-python",
   "name": "python",
   "nbconvert_exporter": "python",
   "pygments_lexer": "ipython3",
   "version": "3.10.18"
  }
 },
 "nbformat": 4,
 "nbformat_minor": 5
}
