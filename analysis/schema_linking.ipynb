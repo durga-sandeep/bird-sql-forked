{
 "cells": [
  {
   "cell_type": "code",
   "execution_count": 1,
   "id": "fe76670d",
   "metadata": {},
   "outputs": [],
   "source": [
    "from pathlib import Path\n",
    "BASE_DIR = Path(\"/Users/dsaluru/Desktop/GPU/bird-sql-forked/save_data/qwen2.5/\")\n",
    "\n",
    "GENERATION_DIR = BASE_DIR / \"generations\"\n",
    "RESULTS_DIR = BASE_DIR / \"with_results\"\n",
    "REWARD_DIR = BASE_DIR / \"with_rewards\""
   ]
  },
  {
   "cell_type": "markdown",
   "id": "041596b1",
   "metadata": {},
   "source": [
    "### Generations"
   ]
  },
  {
   "cell_type": "code",
   "execution_count": 2,
   "id": "27c08ec0",
   "metadata": {},
   "outputs": [],
   "source": [
    "# load the generations jsonl file - data_gen.jsonl\n",
    "import json\n",
    "\n",
    "final_generations_data = {}\n",
    "with open(GENERATION_DIR / \"data_gen.jsonl\", \"r\") as f:\n",
    "    for line in f:\n",
    "        data = json.loads(line)\n",
    "\n",
    "        if data['question_id'] not in final_generations_data:\n",
    "            final_generations_data[data['question_id']] = {\n",
    "                'question_id' : data['question_id'],\n",
    "                'db_id' : data['db_id'],\n",
    "                'question' : data['question'],\n",
    "                'evidence' : data['evidence'],\n",
    "                'SQL' : data['SQL'],\n",
    "                'difficulty' : data['difficulty'],\n",
    "                'responses' : []\n",
    "            }\n",
    "        curr_responses = []\n",
    "        for item in data['responses']:\n",
    "            curr_responses.append(data['responses'][item]['content'])\n",
    "        final_generations_data[data['question_id']]['responses'] += curr_responses\n",
    "\n",
    "\n"
   ]
  },
  {
   "cell_type": "code",
   "execution_count": 3,
   "id": "37184a07",
   "metadata": {},
   "outputs": [
    {
     "name": "stdout",
     "output_type": "stream",
     "text": [
      "154.206\n"
     ]
    }
   ],
   "source": [
    "mean_responses = 0\n",
    "for key in final_generations_data:\n",
    "    mean_responses += len(final_generations_data[key]['responses'])\n",
    "mean_responses /= len(final_generations_data)\n",
    "print(mean_responses)\n"
   ]
  },
  {
   "cell_type": "code",
   "execution_count": 4,
   "id": "990db8b4",
   "metadata": {},
   "outputs": [
    {
     "data": {
      "text/plain": [
       "SELECT AVG(T1.Consumption) / 12 FROM yearmonth AS T1 INNER JOIN customers AS T2 ON T1.CustomerID = T2.CustomerID WHERE T2.Segment = 'SME' AND T1.Date BETWEEN 201301 AND 201312            15\n",
       "SELECT AVG(T1.Consumption) / 12 FROM yearmonth AS T1 INNER JOIN customers AS T2 ON T1.CustomerID = T2.CustomerID WHERE T1.Date BETWEEN 201301 AND 201312 AND T2.Segment = 'SME'            14\n",
       "SELECT AVG(T2.Consumption) / 12 FROM customers AS T1 INNER JOIN yearmonth AS T2 ON T1.CustomerID = T2.CustomerID WHERE T1.Segment = 'SME' AND T2.Date BETWEEN 201301 AND 201312            13\n",
       "SELECT AVG(T1.Consumption) / 12 FROM yearmonth AS T1 INNER JOIN customers AS T2 ON T1.CustomerID = T2.CustomerID WHERE T2.Segment = 'SME' AND T1.Date BETWEEN '201301' AND '201312'         9\n",
       "SELECT AVG(T1.Consumption) / 12 FROM yearmonth AS T1 INNER JOIN customers AS T2 ON T1.CustomerID = T2.CustomerID WHERE SUBSTR(T1.Date, 1, 4) = '2013' AND T2.Segment = 'SME'                7\n",
       "                                                                                                                                                                                           ..\n",
       "SELECT AVG(T1.Consumption) / 12 AS avg_monthly FROM yearmonth AS T1 INNER JOIN customers AS T2 ON T1.CustomerID = T2.CustomerID WHERE T2.Segment = 'SME' AND T1.Date LIKE '2013%'           1\n",
       "SELECT CAST(SUM(T1.Consumption) AS REAL) / 12 FROM yearmonth AS T1 INNER JOIN customers AS T2 ON T1.CustomerID = T2.CustomerID WHERE T2.Segment = 'SME' AND T1.Date LIKE '2013%'            1\n",
       "SELECT AVG(T1.Consumption) / 12 AS avg1 FROM yearmonth AS T1 INNER JOIN customers AS T2 ON T1.CustomerID = T2.CustomerID WHERE T2.Segment = 'SME' AND T1.Date BETWEEN 201301 AND 201312     1\n",
       "SELECT AVG(T1.consumption) / 12 FROM yearmonth AS T1 INNER JOIN customers AS T2 ON T1.CustomerID = T2.CustomerID WHERE T2.Segment = 'SME' AND T1.Date BETWEEN 201301 AND 201312             1\n",
       "SELECT AVG(T1.Consumption) / 12 FROM yearmonth AS T1 INNER JOIN customers AS T2 ON T1.CustomerID = T2.CustomerID WHERE T2.Segment = 'SME' AND T1.`Date` LIKE '2013%'                        1\n",
       "Name: count, Length: 86, dtype: int64"
      ]
     },
     "execution_count": 4,
     "metadata": {},
     "output_type": "execute_result"
    }
   ],
   "source": [
    "import pandas as pd\n",
    "pd.Series(final_generations_data[1473]['responses']).value_counts()"
   ]
  },
  {
   "cell_type": "markdown",
   "id": "b7af0260",
   "metadata": {},
   "source": [
    "### With Results"
   ]
  },
  {
   "cell_type": "code",
   "execution_count": 5,
   "id": "079318f3",
   "metadata": {},
   "outputs": [],
   "source": [
    "final_results_data = {}\n",
    "with open(RESULTS_DIR / \"data_with_results.jsonl\", \"r\") as f:\n",
    "    for line in f:\n",
    "        data = json.loads(line)\n",
    "\n",
    "        if data['question_id'] not in final_results_data:\n",
    "            final_results_data[data['question_id']] = {\n",
    "                'question_id' : data['question_id'],\n",
    "                'db_id' : data['db_id'],\n",
    "                'question' : data['question'],\n",
    "                'evidence' : data['evidence'],\n",
    "                'SQL' : data['SQL'],\n",
    "                'difficulty' : data['difficulty'],\n",
    "                'responses' : []\n",
    "            }\n",
    "        curr_responses = []\n",
    "        for item in data['responses']:\n",
    "            curr_responses.append((data['responses'][item]['content'], data['responses'][item]['evaluation']))\n",
    "        final_results_data[data['question_id']]['responses'] += curr_responses"
   ]
  },
  {
   "cell_type": "code",
   "execution_count": 6,
   "id": "d034be1e",
   "metadata": {},
   "outputs": [
    {
     "name": "stdout",
     "output_type": "stream",
     "text": [
      "83.298\n"
     ]
    }
   ],
   "source": [
    "mean_responses = 0\n",
    "for key in final_results_data:\n",
    "    mean_responses += len(final_results_data[key]['responses'])\n",
    "mean_responses /= len(final_results_data)\n",
    "print(mean_responses)\n"
   ]
  },
  {
   "cell_type": "code",
   "execution_count": 7,
   "id": "817053ce",
   "metadata": {},
   "outputs": [
    {
     "name": "stdout",
     "output_type": "stream",
     "text": [
      "key :  532\n",
      "key :  701\n",
      "key :  704\n",
      "key :  518\n",
      "70.08\n"
     ]
    }
   ],
   "source": [
    "import pandas as pd\n",
    "mean_pass = 0\n",
    "for key in final_results_data:\n",
    "    try:\n",
    "        mean_pass += pd.Series([x[1].split(':')[0] for x in final_results_data[key]['responses']]).value_counts()['pass']\n",
    "    except:\n",
    "        print(\"key : \", key)\n",
    "mean_pass /= len(final_results_data)\n",
    "print(mean_pass)"
   ]
  },
  {
   "cell_type": "markdown",
   "id": "1d38e4bf",
   "metadata": {},
   "source": [
    "### with rewards"
   ]
  },
  {
   "cell_type": "code",
   "execution_count": 8,
   "id": "e397d6d8",
   "metadata": {},
   "outputs": [],
   "source": [
    "final_rewards_data = {}\n",
    "with open(REWARD_DIR / \"data_reward_all.jsonl\", \"r\") as f:\n",
    "    for line in f:\n",
    "        data = json.loads(line)\n",
    "\n",
    "        if data['question_id'] not in final_rewards_data:\n",
    "            final_rewards_data[data['question_id']] = {\n",
    "                'question_id' : data['question_id'],\n",
    "                'db_id' : data['db_id'],\n",
    "                'question' : data['question'],\n",
    "                'evidence' : data['evidence'],\n",
    "                'SQL' : data['SQL'],\n",
    "                'difficulty' : data['difficulty'],\n",
    "                'responses' : []\n",
    "            }\n",
    "        curr_responses = []\n",
    "        for item in data['responses']:\n",
    "            if data['responses'][item]['evaluation'].split(':')[0] == 'pass' and data['responses'][item]['reward'] != None:\n",
    "                curr_responses.append((data['responses'][item]['content'], data['responses'][item]['evaluation'], data['responses'][item]['reward']))\n",
    "        final_rewards_data[data['question_id']]['responses'] += curr_responses"
   ]
  },
  {
   "cell_type": "code",
   "execution_count": 9,
   "id": "6454cc52",
   "metadata": {},
   "outputs": [
    {
     "name": "stdout",
     "output_type": "stream",
     "text": [
      "63.998\n"
     ]
    }
   ],
   "source": [
    "mean_responses = 0\n",
    "for key in final_rewards_data:\n",
    "    mean_responses += len(final_rewards_data[key]['responses'])\n",
    "mean_responses /= len(final_rewards_data)\n",
    "print(mean_responses)\n"
   ]
  },
  {
   "cell_type": "code",
   "execution_count": 10,
   "id": "33447d08",
   "metadata": {},
   "outputs": [],
   "source": [
    "# sort the responses by reward\n",
    "\n",
    "for key in final_rewards_data:\n",
    "    final_rewards_data[key]['responses'].sort(key=lambda x: x[2], reverse=True)\n"
   ]
  },
  {
   "cell_type": "code",
   "execution_count": 11,
   "id": "8536dd86",
   "metadata": {},
   "outputs": [
    {
     "name": "stdout",
     "output_type": "stream",
     "text": [
      "accuracy for k =  1  is  0.69\n",
      "accuracy for k =  2  is  0.712\n",
      "accuracy for k =  3  is  0.716\n",
      "accuracy for k =  4  is  0.722\n",
      "accuracy for k =  5  is  0.732\n",
      "accuracy for k =  6  is  0.744\n",
      "accuracy for k =  7  is  0.748\n",
      "accuracy for k =  8  is  0.752\n",
      "accuracy for k =  9  is  0.758\n",
      "accuracy for k =  10  is  0.758\n",
      "accuracy for k =  11  is  0.762\n",
      "accuracy for k =  12  is  0.772\n",
      "accuracy for k =  13  is  0.78\n",
      "accuracy for k =  14  is  0.78\n",
      "accuracy for k =  15  is  0.78\n",
      "accuracy for k =  16  is  0.788\n",
      "accuracy for k =  17  is  0.79\n",
      "accuracy for k =  18  is  0.792\n",
      "accuracy for k =  19  is  0.796\n"
     ]
    }
   ],
   "source": [
    "\n",
    "for k in range(1, 20):\n",
    "    accuracy = 0\n",
    "    for key in final_rewards_data:\n",
    "        all_candidates_rewards_score = [x[2] for x in final_rewards_data[key]['responses']]\n",
    "        all_candidates_rewards = [x[1] for x in final_rewards_data[key]['responses']]\n",
    "        all_candidates_sqls = [x[0] for x in final_rewards_data[key]['responses']]\n",
    "        top_k_candidates_rewards_score = all_candidates_rewards_score[:k]\n",
    "        top_k_candidates_rewards = all_candidates_rewards[:k]\n",
    "        top_k_candidates_sqls = all_candidates_sqls[:k]\n",
    "\n",
    "        if len(final_rewards_data[key]['responses']) > 0:\n",
    "            if 'pass: correct' in top_k_candidates_rewards:\n",
    "                accuracy += 1\n",
    "    accuracy /= len(final_rewards_data)\n",
    "    print(\"accuracy for k = \", k, \" is \", accuracy)\n"
   ]
  },
  {
   "cell_type": "markdown",
   "id": "d8a46543",
   "metadata": {},
   "source": [
    "### SQL Parsing"
   ]
  },
  {
   "cell_type": "code",
   "execution_count": 21,
   "id": "75f063ea",
   "metadata": {},
   "outputs": [],
   "source": [
    "import sqlglot\n",
    "from sqlglot import expressions as exp\n",
    "import re\n",
    "\n",
    "def extract_schema_linking(sql_query, dialect=\"sqlite\"):\n",
    "    try:\n",
    "        # Clean up any ANSI escape codes\n",
    "        clean_query = re.sub(r'\\x1b\\[[0-9;]*m', '', sql_query)\n",
    "\n",
    "        parsed = sqlglot.parse_one(clean_query, dialect=\"sqlite\")\n",
    "\n",
    "        # Build alias mapping\n",
    "        alias_to_table = {}\n",
    "        for table in parsed.find_all(exp.Table):\n",
    "            if table.alias:\n",
    "                alias_to_table[table.alias] = table.name\n",
    "            alias_to_table[table.name] = table.name\n",
    "\n",
    "        schema_linking = {}\n",
    "\n",
    "        # Find all column references\n",
    "        for column in parsed.find_all(exp.Column):\n",
    "            if column.table:\n",
    "                table_name = alias_to_table.get(column.table, column.table)\n",
    "                column_name = column.name\n",
    "\n",
    "                if table_name not in schema_linking:\n",
    "                    schema_linking[table_name] = set()\n",
    "                schema_linking[table_name].add(column_name)\n",
    "\n",
    "        return {table: list(columns) for table, columns in schema_linking.items()}\n",
    "\n",
    "    except Exception as e:\n",
    "        return {\"error\": str(e)}"
   ]
  },
  {
   "cell_type": "code",
   "execution_count": 52,
   "id": "bf935b16",
   "metadata": {},
   "outputs": [],
   "source": [
    "K=50\n",
    "golden_sql_parsed = {}\n",
    "candidate_sql_parsed = {}\n",
    "for key in final_rewards_data:\n",
    "    golden_sql_parsed[key] = extract_schema_linking(final_rewards_data[key]['SQL'])\n",
    "\n",
    "    # aggregate the sql parsed for all the responses and union them\n",
    "    merged_candidate_sql_parsed = {}\n",
    "    for response in final_rewards_data[key]['responses'][:K]:\n",
    "        curr_sql_parsed = extract_schema_linking(response[0])\n",
    "        if 'error' not in curr_sql_parsed:\n",
    "            for table, columns in curr_sql_parsed.items():\n",
    "                if table not in merged_candidate_sql_parsed:\n",
    "                    merged_candidate_sql_parsed[table] = set()\n",
    "                merged_candidate_sql_parsed[table].update(columns)\n",
    "\n",
    "    # Convert sets back to lists\n",
    "    candidate_sql_parsed[key] = {table: list(columns) for table, columns in merged_candidate_sql_parsed.items()}\n",
    "\n",
    "# tables matches with golden sql\n",
    "tables_matches = {}\n",
    "tables_accuracy = 0\n",
    "tables_and_fields_accuracy = 0\n",
    "for key in candidate_sql_parsed:\n",
    "    golden_tables = sorted(golden_sql_parsed[key].keys())\n",
    "    candidate_tables = sorted(candidate_sql_parsed[key].keys())\n",
    "    table_flag = True\n",
    "    for table in golden_tables:\n",
    "        if table not in candidate_tables:\n",
    "            table_flag = False\n",
    "\n",
    "    if table_flag:\n",
    "        tables_accuracy += 1\n",
    "\n",
    "    table_field_flag = True\n",
    "    for table in golden_tables:\n",
    "        if table in candidate_tables:\n",
    "            golden_fields = sorted(golden_sql_parsed[key][table])\n",
    "            candidate_fields = sorted(candidate_sql_parsed[key][table])\n",
    "            for field in golden_fields:\n",
    "                if field not in candidate_fields:\n",
    "                    table_field_flag = False\n",
    "                    break\n",
    "        else:\n",
    "            table_field_flag = False\n",
    "            break\n",
    "    if table_field_flag:\n",
    "        tables_and_fields_accuracy += 1"
   ]
  },
  {
   "cell_type": "code",
   "execution_count": 53,
   "id": "0c54fbd6",
   "metadata": {},
   "outputs": [
    {
     "data": {
      "text/plain": [
       "92.6"
      ]
     },
     "execution_count": 53,
     "metadata": {},
     "output_type": "execute_result"
    }
   ],
   "source": [
    "tables_accuracy *100.0 /500"
   ]
  },
  {
   "cell_type": "code",
   "execution_count": 54,
   "id": "d43874eb",
   "metadata": {},
   "outputs": [
    {
     "data": {
      "text/plain": [
       "85.4"
      ]
     },
     "execution_count": 54,
     "metadata": {},
     "output_type": "execute_result"
    }
   ],
   "source": [
    "tables_and_fields_accuracy * 100.0 / 500"
   ]
  },
  {
   "cell_type": "code",
   "execution_count": 18,
   "id": "95852501",
   "metadata": {},
   "outputs": [
    {
     "data": {
      "text/plain": [
       "{'satscores': ['cds', 'AvgScrMath'], 'schools': ['Virtual', 'CDSCode']}"
      ]
     },
     "execution_count": 18,
     "metadata": {},
     "output_type": "execute_result"
    }
   ],
   "source": [
    "extract_schema_linking(\"SELECT COUNT(*) FROM satscores AS T1 INNER JOIN schools AS T2 ON T1.cds = T2.CDSCode WHERE T1.AvgScrMath > 400 AND T2.Virtual = 'F'\")"
   ]
  },
  {
   "cell_type": "code",
   "execution_count": 14,
   "id": "485f8f2a",
   "metadata": {},
   "outputs": [
    {
     "data": {
      "text/plain": [
       "[\"SELECT COUNT(*) FROM satscores AS T1 INNER JOIN schools AS T2 ON T1.cds = T2.CDSCode WHERE T1.AvgScrMath > 400 AND T2.Virtual = 'F'\",\n",
       " \"SELECT COUNT(*) FROM satscores INNER JOIN schools ON satscores.cds = schools.CDSCode WHERE schools.Virtual = 'F' AND satscores.AvgScrMath > 400\",\n",
       " \"SELECT COUNT(*) FROM satscores AS T1 INNER JOIN schools AS T2 ON T1.cds = T2.CDSCode WHERE T2.Virtual = 'F' AND T1.AvgScrMath > 400\",\n",
       " \"SELECT COUNT(T1.cds) FROM satscores AS T1 INNER JOIN schools AS T2 ON T1.cds = T2.CDSCode WHERE T1.AvgScrMath > 400 AND T2.Virtual = 'F'\",\n",
       " \"SELECT COUNT(*) FROM schools AS T1 INNER JOIN satscores AS T2 ON T1.CDSCode = T2.cds WHERE T1.Virtual = 'F' AND T2.AvgScrMath > 400\",\n",
       " \"SELECT COUNT(*) FROM schools AS T1 INNER JOIN satscores AS T2 ON T2.cds = T1.CDSCode WHERE T2.AvgScrMath > 400 AND T1.Virtual = 'F'\",\n",
       " \"SELECT COUNT(*) FROM schools AS T1 INNER JOIN satscores AS T2 ON T1.CDSCode = T2.cds WHERE T2.AvgScrMath > 400 AND T1.Virtual = 'F'\",\n",
       " \"SELECT COUNT(T1.cds) FROM satscores AS T1 INNER JOIN schools AS T2 ON T1.cds = T2.CDSCode WHERE T2.Virtual = 'F' AND T1.AvgScrMath > 400\",\n",
       " \"SELECT COUNT(T1.cds) FROM satscores AS T1 INNER JOIN schools AS T2 ON T2.CDSCode = T1.cds WHERE T1.AvgScrMath > 400 AND T2.Virtual = 'F'\",\n",
       " \"SELECT COUNT(schools.CDSCode) FROM schools INNER JOIN satscores ON schools.CDSCode = satscores.cds WHERE satscores.AvgScrMath > 400 AND schools.Virtual = 'F'\",\n",
       " \"SELECT COUNT(T1.School) FROM schools AS T1 INNER JOIN satscores AS T2 ON T1.CDSCode = T2.cds WHERE T2.AvgScrMath > 400 AND T1.Virtual = 'F'\",\n",
       " \"SELECT COUNT(T2.cds) FROM schools AS T1 INNER JOIN satscores AS T2 ON T1.CDSCode = T2.cds WHERE T2.AvgScrMath > 400 AND T1.Virtual = 'F'\",\n",
       " \"SELECT COUNT(T2.cds) FROM schools AS T1 INNER JOIN satscores AS T2 ON T1.CDSCode = T2.cds WHERE T1.Virtual = 'F' AND T2.AvgScrMath > 400\",\n",
       " \"SELECT COUNT(T1.CDSCode) FROM schools AS T1 INNER JOIN satscores AS T2 ON T1.CDSCode = T2.cds WHERE T2.AvgScrMath > 400 AND T1.Virtual = 'F'\",\n",
       " \"SELECT COUNT(T2.CDSCode) FROM satscores AS T1 INNER JOIN schools AS T2 ON T1.cds = T2.CDSCode WHERE T1.AvgScrMath > 400 AND T2.Virtual = 'F'\",\n",
       " \"SELECT COUNT(T1.School) FROM schools AS T1 INNER JOIN satscores AS T2 ON T1.CDSCode = T2.cds WHERE T1.Virtual = 'F' AND T2.AvgScrMath > 400\",\n",
       " \"SELECT COUNT(T1.CDSCode) FROM schools AS T1 INNER JOIN satscores AS T2 ON T1.CDSCode = T2.cds WHERE T1.Virtual = 'F' AND T2.AvgScrMath > 400\",\n",
       " \"SELECT COUNT(T1.school) FROM schools AS T1 INNER JOIN satscores AS T2 ON T1.CDSCode = T2.cds WHERE T1.Virtual = 'F' AND T2.AvgScrMath > 400\",\n",
       " \"SELECT COUNT(T1.school) FROM schools AS T1 INNER JOIN satscores AS T2 ON T1.CDSCode = T2.cds WHERE T2.AvgScrMath > 400 AND T1.Virtual = 'F'\",\n",
       " \"SELECT COUNT(T2.CDSCode) FROM satscores AS T1 INNER JOIN schools AS T2 ON T1.cds = T2.CDSCode WHERE T2.Virtual = 'F' AND T1.AvgScrMath > 400\",\n",
       " \"SELECT COUNT(T1.Virtual) FROM schools AS T1 INNER JOIN satscores AS T2 ON T1.CDSCode = T2.cds WHERE T2.AvgScrMath > 400 AND T1.Virtual = 'F'\",\n",
       " \"SELECT COUNT(T1.Virtual) FROM schools AS T1 INNER JOIN satscores AS T2 ON T1.CDSCode = T2.cds WHERE T1.Virtual = 'F' AND T2.AvgScrMath > 400\",\n",
       " \"SELECT COUNT(DISTINCT T1.cds) FROM satscores AS T1 INNER JOIN schools AS T2 ON T1.cds = T2.CDSCode WHERE T1.AvgScrMath > 400 AND T2.Virtual = 'F'\",\n",
       " \"SELECT COUNT(DISTINCT t1.cds) FROM satscores AS T1 INNER JOIN schools AS T2 ON T1.cds = T2.CDSCode WHERE T1.AvgScrMath > 400 AND T2.Virtual = 'F'\",\n",
       " \"SELECT COUNT(DISTINCT T1.cds) FROM satscores AS T1 INNER JOIN schools AS T2 ON T2.CDSCode = T1.cds WHERE T1.AvgScrMath > 400 AND T2.Virtual = 'F'\",\n",
       " \"SELECT COUNT(DISTINCT T2.school) FROM satscores AS T1 INNER JOIN schools AS T2 ON T1.cds = T2.CDSCode WHERE T1.AvgScrMath > 400 AND T2.Virtual = 'F'\",\n",
       " \"SELECT COUNT(DISTINCT T1.cds) FROM satscores AS T1 INNER JOIN schools AS T2 ON T1.cds = T2.CDSCode WHERE T2.Virtual = 'F' AND T1.AvgScrMath > 400\",\n",
       " \"SELECT SUM(CASE WHEN T1.Virtual = 'F' THEN 1 ELSE 0 END) FROM schools AS T1 INNER JOIN satscores AS T2 ON T1.CDSCode = T2.cds WHERE T2.AvgScrMath > 400\",\n",
       " \"SELECT COUNT(DISTINCT T2.School) FROM satscores AS T1 INNER JOIN schools AS T2 ON T1.cds = T2.CDSCode WHERE T2.Virtual = 'F' AND T1.AvgScrMath > 400\",\n",
       " \"SELECT COUNT(DISTINCT T2.cds) FROM schools AS T1 INNER JOIN satscores AS T2 ON T1.CDSCode = T2.cds WHERE T2.AvgScrMath > 400 AND T1.Virtual = 'F'\",\n",
       " \"SELECT COUNT(DISTINCT T1.School) FROM schools AS T1 INNER JOIN satscores AS T2 ON T1.CDSCode = T2.cds WHERE T2.AvgScrMath > 400 AND T1.Virtual = 'F'\",\n",
       " \"SELECT COUNT(DISTINCT T2.School) FROM satscores AS T1 INNER JOIN schools AS T2 ON T2.CDSCode = T1.cds WHERE T2.Virtual = 'F' AND T1.AvgScrMath > 400\",\n",
       " \"SELECT COUNT(DISTINCT T1.CDSCode) FROM schools AS T1 INNER JOIN satscores AS T2 ON T1.CDSCode = T2.cds WHERE T2.AvgScrMath > 400 AND T1.Virtual = 'F'\",\n",
       " \"SELECT COUNT(DISTINCT T1.sname) FROM satscores AS T1 INNER JOIN schools AS T2 ON T1.cds = T2.CDSCode WHERE T1.AvgScrMath > 400 AND T2.Virtual = 'F'\",\n",
       " \"SELECT COUNT(DISTINCT T1.CDSCode) FROM schools AS T1 INNER JOIN satscores AS T2 ON T1.CDSCode = T2.cds WHERE T1.Virtual = 'F' AND T2.AvgScrMath > 400\",\n",
       " \"SELECT COUNT(DISTINCT T2.cds) FROM schools AS T1 INNER JOIN satscores AS T2 ON T1.CDSCode = T2.cds WHERE T1.Virtual = 'F' AND T2.AvgScrMath > 400\",\n",
       " \"SELECT COUNT(DISTINCT T1.School) FROM schools AS T1 INNER JOIN satscores AS T2 ON T1.CDSCode = T2.cds WHERE T1.Virtual = 'F' AND T2.AvgScrMath > 400\",\n",
       " \"SELECT COUNT(DISTINCT T1.school) FROM schools AS T1 INNER JOIN satscores AS T2 ON T1.CDSCode = T2.cds WHERE T1.Virtual = 'F' AND T2.AvgScrMath > 400\",\n",
       " \"SELECT COUNT(DISTINCT T2.sname) FROM schools AS T1 INNER JOIN satscores AS T2 ON T1.CDSCode = T2.cds WHERE T1.Virtual = 'F' AND T2.AvgScrMath > 400\",\n",
       " \"SELECT COUNT(DISTINCT T1.school) FROM schools AS T1 INNER JOIN satscores AS T2 ON T1.cdscode = T2.cds WHERE T1.virtual = 'F' AND T2.AvgScrMath > 400\",\n",
       " \"SELECT COUNT(T1.NCESDist) FROM schools AS T1 INNER JOIN satscores AS T2 ON T1.CDSCode = T2.cds WHERE T2.AvgScrMath > 400 AND T1.Virtual = 'F'\",\n",
       " \"SELECT COUNT(T1.cname) FROM satscores AS T1 INNER JOIN schools AS T2 ON T1.cds = T2.CDSCode WHERE T1.AvgScrMath > 400 AND T2.Virtual = 'F'\",\n",
       " \"SELECT COUNT(*) FROM frpm AS T1 INNER JOIN satscores AS T2 ON T1.CDSCode = T2.cds INNER JOIN schools AS T3 ON T2.cds = T3.CDSCode WHERE T2.AvgScrMath > 400 AND T3.Virtual = 'F'\",\n",
       " \"SELECT COUNT(T1.CDSCode) FROM schools AS T1 INNER JOIN satscores AS T2 ON T1.CDSCode = T2.cds WHERE T2.AvgScrMath > 400 AND T1.Virtual = 'P'\",\n",
       " \"SELECT COUNT(T1.CDSCode) FROM frpm AS T1 INNER JOIN satscores AS T2 ON T1.CDSCode = T2.cds INNER JOIN schools AS T3 ON T1.CDSCode = T3.CDSCode WHERE T2.AvgScrMath > 400 AND T3.Virtual = 'F'\",\n",
       " \"SELECT COUNT(T1.CDSCode) FROM frpm AS T1 INNER JOIN satscores AS T2 ON T1.CDSCode = T2.cds INNER JOIN schools AS T3 ON T2.cds = T3.CDSCode WHERE T2.AvgScrMath > 400 AND T3.Virtual = 'F'\",\n",
       " \"SELECT COUNT(DISTINCT T1.CDSCode) FROM frpm AS T1 INNER JOIN schools AS T2 ON T1.CDSCode = T2.CDSCode INNER JOIN satscores AS T3 ON T2.CDSCode = T3.cds WHERE T3.AvgScrMath > 400 AND T2.Virtual = 'F'\",\n",
       " \"SELECT COUNT(DISTINCT T1.NCESDist) FROM schools AS T1 INNER JOIN satscores AS T2 ON T1.CDSCode = T2.cds WHERE T1.Virtual = 'F' AND T2.AvgScrMath > 400\"]"
      ]
     },
     "execution_count": 14,
     "metadata": {},
     "output_type": "execute_result"
    }
   ],
   "source": [
    "[x[0] for x in final_rewards_data[5]['responses']]"
   ]
  },
  {
   "cell_type": "code",
   "execution_count": null,
   "id": "b1f73fbd",
   "metadata": {},
   "outputs": [],
   "source": []
  }
 ],
 "metadata": {
  "kernelspec": {
   "display_name": "contextual-ai",
   "language": "python",
   "name": "python3"
  },
  "language_info": {
   "codemirror_mode": {
    "name": "ipython",
    "version": 3
   },
   "file_extension": ".py",
   "mimetype": "text/x-python",
   "name": "python",
   "nbconvert_exporter": "python",
   "pygments_lexer": "ipython3",
   "version": "3.10.18"
  }
 },
 "nbformat": 4,
 "nbformat_minor": 5
}
