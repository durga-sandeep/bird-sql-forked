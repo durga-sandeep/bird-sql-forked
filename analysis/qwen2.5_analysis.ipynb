{
 "cells": [
  {
   "cell_type": "code",
   "execution_count": 3,
   "id": "7ddc49b4",
   "metadata": {},
   "outputs": [],
   "source": [
    "from pathlib import Path\n",
    "BASE_DIR = Path(\"/Users/dsaluru/Desktop/GPU/bird-sql-forked/save_data/qwen2.5/\")\n",
    "\n",
    "GENERATION_DIR = BASE_DIR / \"generations\"\n",
    "RESULTS_DIR = BASE_DIR / \"with_results\"\n",
    "REWARD_DIR = BASE_DIR / \"with_rewards\""
   ]
  },
  {
   "cell_type": "markdown",
   "id": "af6057f6",
   "metadata": {},
   "source": [
    "### Generations"
   ]
  },
  {
   "cell_type": "code",
   "execution_count": 4,
   "id": "02ac9d5d",
   "metadata": {},
   "outputs": [],
   "source": [
    "# load the generations jsonl file - data_gen.jsonl\n",
    "import json\n",
    "\n",
    "final_generations_data = {}\n",
    "with open(GENERATION_DIR / \"data_gen.jsonl\", \"r\") as f:\n",
    "    for line in f:\n",
    "        data = json.loads(line)\n",
    "\n",
    "        if data['question_id'] not in final_generations_data:\n",
    "            final_generations_data[data['question_id']] = {\n",
    "                'question_id' : data['question_id'],\n",
    "                'db_id' : data['db_id'],\n",
    "                'question' : data['question'],\n",
    "                'evidence' : data['evidence'],\n",
    "                'SQL' : data['SQL'],\n",
    "                'difficulty' : data['difficulty'],\n",
    "                'responses' : []\n",
    "            }\n",
    "        curr_responses = []\n",
    "        for item in data['responses']:\n",
    "            curr_responses.append(data['responses'][item]['content'])\n",
    "        final_generations_data[data['question_id']]['responses'] += curr_responses\n",
    "\n",
    "\n"
   ]
  },
  {
   "cell_type": "code",
   "execution_count": 5,
   "id": "1017a9c0",
   "metadata": {},
   "outputs": [
    {
     "name": "stdout",
     "output_type": "stream",
     "text": [
      "154.206\n"
     ]
    }
   ],
   "source": [
    "mean_responses = 0\n",
    "for key in final_generations_data:\n",
    "    mean_responses += len(final_generations_data[key]['responses'])\n",
    "mean_responses /= len(final_generations_data)\n",
    "print(mean_responses)\n"
   ]
  },
  {
   "cell_type": "code",
   "execution_count": 6,
   "id": "473ecb2b",
   "metadata": {},
   "outputs": [
    {
     "data": {
      "text/plain": [
       "SELECT AVG(T1.Consumption) / 12 FROM yearmonth AS T1 INNER JOIN customers AS T2 ON T1.CustomerID = T2.CustomerID WHERE T2.Segment = 'SME' AND T1.Date BETWEEN 201301 AND 201312            15\n",
       "SELECT AVG(T1.Consumption) / 12 FROM yearmonth AS T1 INNER JOIN customers AS T2 ON T1.CustomerID = T2.CustomerID WHERE T1.Date BETWEEN 201301 AND 201312 AND T2.Segment = 'SME'            14\n",
       "SELECT AVG(T2.Consumption) / 12 FROM customers AS T1 INNER JOIN yearmonth AS T2 ON T1.CustomerID = T2.CustomerID WHERE T1.Segment = 'SME' AND T2.Date BETWEEN 201301 AND 201312            13\n",
       "SELECT AVG(T1.Consumption) / 12 FROM yearmonth AS T1 INNER JOIN customers AS T2 ON T1.CustomerID = T2.CustomerID WHERE T2.Segment = 'SME' AND T1.Date BETWEEN '201301' AND '201312'         9\n",
       "SELECT AVG(T1.Consumption) / 12 FROM yearmonth AS T1 INNER JOIN customers AS T2 ON T1.CustomerID = T2.CustomerID WHERE SUBSTR(T1.Date, 1, 4) = '2013' AND T2.Segment = 'SME'                7\n",
       "                                                                                                                                                                                           ..\n",
       "SELECT AVG(T1.Consumption) / 12 AS avg_monthly FROM yearmonth AS T1 INNER JOIN customers AS T2 ON T1.CustomerID = T2.CustomerID WHERE T2.Segment = 'SME' AND T1.Date LIKE '2013%'           1\n",
       "SELECT CAST(SUM(T1.Consumption) AS REAL) / 12 FROM yearmonth AS T1 INNER JOIN customers AS T2 ON T1.CustomerID = T2.CustomerID WHERE T2.Segment = 'SME' AND T1.Date LIKE '2013%'            1\n",
       "SELECT AVG(T1.Consumption) / 12 AS avg1 FROM yearmonth AS T1 INNER JOIN customers AS T2 ON T1.CustomerID = T2.CustomerID WHERE T2.Segment = 'SME' AND T1.Date BETWEEN 201301 AND 201312     1\n",
       "SELECT AVG(T1.consumption) / 12 FROM yearmonth AS T1 INNER JOIN customers AS T2 ON T1.CustomerID = T2.CustomerID WHERE T2.Segment = 'SME' AND T1.Date BETWEEN 201301 AND 201312             1\n",
       "SELECT AVG(T1.Consumption) / 12 FROM yearmonth AS T1 INNER JOIN customers AS T2 ON T1.CustomerID = T2.CustomerID WHERE T2.Segment = 'SME' AND T1.`Date` LIKE '2013%'                        1\n",
       "Name: count, Length: 86, dtype: int64"
      ]
     },
     "execution_count": 6,
     "metadata": {},
     "output_type": "execute_result"
    }
   ],
   "source": [
    "import pandas as pd\n",
    "pd.Series(final_generations_data[1473]['responses']).value_counts()"
   ]
  },
  {
   "cell_type": "markdown",
   "id": "360570e7",
   "metadata": {},
   "source": [
    "### With Results"
   ]
  },
  {
   "cell_type": "code",
   "execution_count": 7,
   "id": "1e8f5986",
   "metadata": {},
   "outputs": [],
   "source": [
    "final_results_data = {}\n",
    "with open(RESULTS_DIR / \"data_with_results.jsonl\", \"r\") as f:\n",
    "    for line in f:\n",
    "        data = json.loads(line)\n",
    "\n",
    "        if data['question_id'] not in final_results_data:\n",
    "            final_results_data[data['question_id']] = {\n",
    "                'question_id' : data['question_id'],\n",
    "                'db_id' : data['db_id'],\n",
    "                'question' : data['question'],\n",
    "                'evidence' : data['evidence'],\n",
    "                'SQL' : data['SQL'],\n",
    "                'difficulty' : data['difficulty'],\n",
    "                'responses' : []\n",
    "            }\n",
    "        curr_responses = []\n",
    "        for item in data['responses']:\n",
    "            curr_responses.append((data['responses'][item]['content'], data['responses'][item]['evaluation']))\n",
    "        final_results_data[data['question_id']]['responses'] += curr_responses"
   ]
  },
  {
   "cell_type": "code",
   "execution_count": 8,
   "id": "b74ed7e2",
   "metadata": {},
   "outputs": [
    {
     "name": "stdout",
     "output_type": "stream",
     "text": [
      "83.298\n"
     ]
    }
   ],
   "source": [
    "mean_responses = 0\n",
    "for key in final_results_data:\n",
    "    mean_responses += len(final_results_data[key]['responses'])\n",
    "mean_responses /= len(final_results_data)\n",
    "print(mean_responses)\n"
   ]
  },
  {
   "cell_type": "code",
   "execution_count": 9,
   "id": "d94ea47f",
   "metadata": {},
   "outputs": [
    {
     "name": "stdout",
     "output_type": "stream",
     "text": [
      "key :  532\n",
      "key :  701\n",
      "key :  704\n",
      "key :  518\n",
      "70.08\n"
     ]
    }
   ],
   "source": [
    "import pandas as pd\n",
    "mean_pass = 0\n",
    "for key in final_results_data:\n",
    "    try:\n",
    "        mean_pass += pd.Series([x[1].split(':')[0] for x in final_results_data[key]['responses']]).value_counts()['pass']\n",
    "    except:\n",
    "        print(\"key : \", key)\n",
    "mean_pass /= len(final_results_data)\n",
    "print(mean_pass)"
   ]
  },
  {
   "cell_type": "markdown",
   "id": "f0b202cf",
   "metadata": {},
   "source": [
    "### with rewards"
   ]
  },
  {
   "cell_type": "code",
   "execution_count": 10,
   "id": "f30cd938",
   "metadata": {},
   "outputs": [],
   "source": [
    "final_rewards_data = {}\n",
    "with open(REWARD_DIR / \"data_reward_all.jsonl\", \"r\") as f:\n",
    "    for line in f:\n",
    "        data = json.loads(line)\n",
    "\n",
    "        if data['question_id'] not in final_rewards_data:\n",
    "            final_rewards_data[data['question_id']] = {\n",
    "                'question_id' : data['question_id'],\n",
    "                'db_id' : data['db_id'],\n",
    "                'question' : data['question'],\n",
    "                'evidence' : data['evidence'],\n",
    "                'SQL' : data['SQL'],\n",
    "                'difficulty' : data['difficulty'],\n",
    "                'responses' : []\n",
    "            }\n",
    "        curr_responses = []\n",
    "        for item in data['responses']:\n",
    "            if data['responses'][item]['evaluation'].split(':')[0] == 'pass' and data['responses'][item]['reward'] != None:\n",
    "                curr_responses.append((data['responses'][item]['content'], data['responses'][item]['evaluation'], data['responses'][item]['reward']))\n",
    "        final_rewards_data[data['question_id']]['responses'] += curr_responses"
   ]
  },
  {
   "cell_type": "code",
   "execution_count": 11,
   "id": "4d0e00cd",
   "metadata": {},
   "outputs": [
    {
     "name": "stdout",
     "output_type": "stream",
     "text": [
      "63.998\n"
     ]
    }
   ],
   "source": [
    "mean_responses = 0\n",
    "for key in final_rewards_data:\n",
    "    mean_responses += len(final_rewards_data[key]['responses'])\n",
    "mean_responses /= len(final_rewards_data)\n",
    "print(mean_responses)\n"
   ]
  },
  {
   "cell_type": "code",
   "execution_count": 12,
   "id": "ee085897",
   "metadata": {},
   "outputs": [],
   "source": [
    "# sort the responses by reward\n",
    "\n",
    "for key in final_rewards_data:\n",
    "    final_rewards_data[key]['responses'].sort(key=lambda x: x[2], reverse=True)\n"
   ]
  },
  {
   "cell_type": "code",
   "execution_count": 13,
   "id": "bcd8c8f6",
   "metadata": {},
   "outputs": [
    {
     "name": "stdout",
     "output_type": "stream",
     "text": [
      "accuracy for k =  1  is  0.69\n",
      "accuracy for k =  2  is  0.712\n",
      "accuracy for k =  3  is  0.716\n",
      "accuracy for k =  4  is  0.722\n",
      "accuracy for k =  5  is  0.732\n",
      "accuracy for k =  6  is  0.744\n",
      "accuracy for k =  7  is  0.748\n",
      "accuracy for k =  8  is  0.752\n",
      "accuracy for k =  9  is  0.758\n",
      "accuracy for k =  10  is  0.758\n",
      "accuracy for k =  11  is  0.762\n",
      "accuracy for k =  12  is  0.772\n",
      "accuracy for k =  13  is  0.78\n",
      "accuracy for k =  14  is  0.78\n",
      "accuracy for k =  15  is  0.78\n",
      "accuracy for k =  16  is  0.788\n",
      "accuracy for k =  17  is  0.79\n",
      "accuracy for k =  18  is  0.792\n",
      "accuracy for k =  19  is  0.796\n"
     ]
    }
   ],
   "source": [
    "\n",
    "for k in range(1, 20):\n",
    "    accuracy = 0\n",
    "    for key in final_rewards_data:\n",
    "        all_candidates_rewards_score = [x[2] for x in final_rewards_data[key]['responses']]\n",
    "        all_candidates_rewards = [x[1] for x in final_rewards_data[key]['responses']]\n",
    "        all_candidates_sqls = [x[0] for x in final_rewards_data[key]['responses']]\n",
    "        top_k_candidates_rewards_score = all_candidates_rewards_score[:k]\n",
    "        top_k_candidates_rewards = all_candidates_rewards[:k]\n",
    "        top_k_candidates_sqls = all_candidates_sqls[:k]\n",
    "\n",
    "        if len(final_rewards_data[key]['responses']) > 0:\n",
    "            if 'pass: correct' in top_k_candidates_rewards:\n",
    "                accuracy += 1\n",
    "    accuracy /= len(final_rewards_data)\n",
    "    print(\"accuracy for k = \", k, \" is \", accuracy)\n"
   ]
  },
  {
   "cell_type": "markdown",
   "id": "5f1d800c",
   "metadata": {},
   "source": [
    "### Only California DB"
   ]
  },
  {
   "cell_type": "code",
   "execution_count": 14,
   "id": "c04e7a74",
   "metadata": {},
   "outputs": [],
   "source": [
    "final_rewards_data_cs = {key: final_rewards_data[key] for key in final_rewards_data if final_rewards_data[key]['db_id'] == 'california_schools'}"
   ]
  },
  {
   "cell_type": "code",
   "execution_count": 15,
   "id": "55a3e8e2",
   "metadata": {},
   "outputs": [
    {
     "name": "stdout",
     "output_type": "stream",
     "text": [
      "accuracy for k =  1  is  0.5333333333333333\n",
      "accuracy for k =  2  is  0.6333333333333333\n",
      "accuracy for k =  3  is  0.6666666666666666\n",
      "accuracy for k =  4  is  0.6666666666666666\n",
      "accuracy for k =  5  is  0.7\n",
      "accuracy for k =  6  is  0.7\n",
      "accuracy for k =  7  is  0.7\n",
      "accuracy for k =  8  is  0.7\n",
      "accuracy for k =  9  is  0.7\n",
      "accuracy for k =  10  is  0.7\n",
      "accuracy for k =  11  is  0.7\n",
      "accuracy for k =  12  is  0.7\n",
      "accuracy for k =  13  is  0.7\n",
      "accuracy for k =  14  is  0.7333333333333333\n",
      "accuracy for k =  15  is  0.7333333333333333\n",
      "accuracy for k =  16  is  0.7333333333333333\n",
      "accuracy for k =  17  is  0.7666666666666667\n",
      "accuracy for k =  18  is  0.8\n",
      "accuracy for k =  19  is  0.8\n"
     ]
    }
   ],
   "source": [
    "\n",
    "for k in range(1, 20):\n",
    "    accuracy = 0\n",
    "    for key in final_rewards_data_cs:\n",
    "        all_candidates_rewards_score = [x[2] for x in final_rewards_data_cs[key]['responses']]\n",
    "        all_candidates_rewards = [x[1] for x in final_rewards_data_cs[key]['responses']]\n",
    "        all_candidates_sqls = [x[0] for x in final_rewards_data_cs[key]['responses']]\n",
    "        top_k_candidates_rewards_score = all_candidates_rewards_score[:k]\n",
    "        top_k_candidates_rewards = all_candidates_rewards[:k]\n",
    "        top_k_candidates_sqls = all_candidates_sqls[:k]\n",
    "\n",
    "        if len(final_rewards_data_cs[key]['responses']) > 0:\n",
    "            if 'pass: incorrect' in top_k_candidates_rewards:\n",
    "                accuracy += 1\n",
    "    accuracy /= len(final_rewards_data_cs)\n",
    "    print(\"accuracy for k = \", k, \" is \", accuracy)\n"
   ]
  },
  {
   "cell_type": "code",
   "execution_count": 16,
   "id": "a86ae09a",
   "metadata": {},
   "outputs": [],
   "source": [
    "california_schools_db_schema = \"\"\"\n",
    "【DB_ID】 california_schools\n",
    "【Schema】\n",
    "# Table: frpm\n",
    "[\n",
    "(CDSCode:TEXT, Primary Key, Examples: [01100170109835, 01100170112607, 01100170118489]),\n",
    "(Academic Year:TEXT, Examples: [2014-2015]),\n",
    "(County Code:TEXT, Examples: [01, 02, 03]),\n",
    "(District Code:INTEGER, Examples: [10017, 31609, 31617]),\n",
    "(School Code:TEXT, Examples: [0109835, 0112607, 0118489]),\n",
    "(County Name:TEXT, Examples: [Alameda, Alpine, Amador]),\n",
    "(District Name:TEXT),\n",
    "(School Name:TEXT, Examples: [FAME Public Charter]),\n",
    "(District Type:TEXT, Examples: [County Office of Education (COE)]),\n",
    "(School Type:TEXT, Examples: [K-12 Schools (Public)]),\n",
    "(Educational Option Type:TEXT, Examples: [Traditional]),\n",
    "(NSLP Provision Status:TEXT, Examples: [Breakfast Provision 2]),\n",
    "(Charter School (Y/N):INTEGER, Examples: [1, 0]),\n",
    "(Charter School Number:TEXT, Examples: [0728, 0811, 1049]),\n",
    "(Charter Funding Type:TEXT, Examples: [Directly funded]),\n",
    "(IRC:INTEGER, Examples: [1, 0]),\n",
    "(Low Grade:TEXT, Examples: [K, 9, 1]),\n",
    "(High Grade:TEXT, Examples: [12, 8, 5]),\n",
    "(Enrollment (K-12):REAL, Examples: [1087.0, 395.0, 244.0]),\n",
    "(Free Meal Count (K-12):REAL, Examples: [565.0, 186.0, 134.0]),\n",
    "(Percent (%) Eligible Free (K-12):REAL, Examples: [0.519779208831647, 0.470886075949367, 0.549180327868853]),\n",
    "(FRPM Count (K-12):REAL, Examples: [715.0, 186.0, 175.0]),\n",
    "(Percent (%) Eligible FRPM (K-12):REAL, Examples: [0.657773689052438, 0.470886075949367, 0.717213114754098]),\n",
    "(Enrollment (Ages 5-17):REAL, Examples: [1070.0, 376.0, 230.0]),\n",
    "(Free Meal Count (Ages 5-17):REAL, Examples: [553.0, 182.0, 128.0]),\n",
    "(Percent (%) Eligible Free (Ages 5-17):REAL, Examples: [0.516822429906542, 0.484042553191489, 0.556521739130435]),\n",
    "(FRPM Count (Ages 5-17):REAL, Examples: [702.0, 182.0, 168.0]),\n",
    "(Percent (%) Eligible FRPM (Ages 5-17):REAL, Examples: [0.65607476635514, 0.484042553191489, 0.730434782608696]),\n",
    "(2013-14 CALPADS Fall 1 Certification Status:INTEGER, Examples: [1])\n",
    "]\n",
    "# Table: schools\n",
    "[\n",
    "(CDSCode:TEXT, Primary Key, Examples: [01100170000000, 01100170109835, 01100170112607]),\n",
    "(NCESDist:TEXT, Examples: [0691051, 0600002, 0600003]),\n",
    "(NCESSchool:TEXT, Examples: [10546, 10947, 12283]),\n",
    "(StatusType:TEXT, Examples: [Active, Closed, Merged]),\n",
    "(County:TEXT, Examples: [Alameda, Alpine, Amador]),\n",
    "(District:TEXT),\n",
    "(School:TEXT, Examples: [FAME Public Charter]),\n",
    "(Street:TEXT, Examples: [313 West Winton Avenue]),\n",
    "(StreetAbr:TEXT, Examples: [313 West Winton Ave.]),\n",
    "(City:TEXT, Examples: [Hayward, Newark, Oakland]),\n",
    "(Zip:TEXT, Examples: [94544-1136, 94560-5359, 94612-3355]),\n",
    "(State:TEXT, Examples: [CA]),\n",
    "(MailStreet:TEXT, Examples: [313 West Winton Avenue]),\n",
    "(MailStrAbr:TEXT, Examples: [313 West Winton Ave.]),\n",
    "(MailCity:TEXT, Examples: [Hayward, Newark, Oakland]),\n",
    "(MailZip:TEXT, Examples: [94544-1136, 94560-5359, 94612]),\n",
    "(MailState:TEXT, Examples: [CA]),\n",
    "(Phone:TEXT, Examples: [(510) 887-0152, (510) 596-8901, (510) 686-4131]),\n",
    "(Ext:TEXT, Examples: [130, 1240, 1200]),\n",
    "(Website:TEXT, Examples: [www.acoe.org]),\n",
    "(OpenDate:DATE, Examples: [2005-08-29]),\n",
    "(ClosedDate:DATE, Examples: [2015-07-31]),\n",
    "(Charter:INTEGER, Examples: [1, 0]),\n",
    "(CharterNum:TEXT, Examples: [0728, 0811, 1049]),\n",
    "(FundingType:TEXT, Examples: [Directly funded]),\n",
    "(DOC:TEXT, Examples: [00, 31, 34]),\n",
    "(DOCType:TEXT, Examples: [County Office of Education (COE)]),\n",
    "(SOC:TEXT, Examples: [65, 66, 60]),\n",
    "(SOCType:TEXT, Examples: [K-12 Schools (Public)]),\n",
    "(EdOpsCode:TEXT, Examples: [TRAD, JUV, COMM]),\n",
    "(EdOpsName:TEXT, Examples: [Traditional]),\n",
    "(EILCode:TEXT, Examples: [ELEMHIGH, HS, ELEM]),\n",
    "(EILName:TEXT, Examples: [Elementary-High Combination]),\n",
    "(GSoffered:TEXT, Examples: [K-12, 9-12, K-8]),\n",
    "(GSserved:TEXT, Examples: [K-12, 9-12, K-7]),\n",
    "(Virtual:TEXT, Examples: [P, N, F]),\n",
    "(Magnet:INTEGER, Examples: [0, 1]),\n",
    "(Latitude:REAL, Examples: [37.658212, 37.521436, 37.80452]),\n",
    "(Longitude:REAL, Examples: [-122.09713, -121.99391, -122.26815]),\n",
    "(AdmFName1:TEXT, Examples: [L Karen, Laura, Clifford]),\n",
    "(AdmLName1:TEXT, Examples: [Monroe, Robell, Thompson]),\n",
    "(AdmEmail1:TEXT),\n",
    "(AdmFName2:TEXT, Examples: [Sau-Lim (Lance), Jennifer, Annalisa]),\n",
    "(AdmLName2:TEXT, Examples: [Tsang, Koelling, Moore]),\n",
    "(AdmEmail2:TEXT),\n",
    "(AdmFName3:TEXT, Examples: [Drew, Irma, Vickie]),\n",
    "(AdmLName3:TEXT, Examples: [Sarratore, Munoz, Chang]),\n",
    "(AdmEmail3:TEXT),\n",
    "(LastUpdate:DATE, Examples: [2015-06-23])\n",
    "]\n",
    "# Table: satscores\n",
    "[\n",
    "(cds:TEXT, Primary Key, Examples: [10101080000000, 10101080109991, 10101080111682]),\n",
    "(rtype:TEXT, Examples: [D, S]),\n",
    "(sname:TEXT, Examples: [FAME Public Charter]),\n",
    "(dname:TEXT, Examples: [Alameda County Office of Education]),\n",
    "(cname:TEXT, Examples: [Alameda, Amador, Butte]),\n",
    "(enroll12:INTEGER, Examples: [398, 62, 75]),\n",
    "(NumTstTakr:INTEGER, Examples: [88, 17, 71]),\n",
    "(AvgScrRead:INTEGER, Examples: [418, 503, 397]),\n",
    "(AvgScrMath:INTEGER, Examples: [418, 546, 387]),\n",
    "(AvgScrWrite:INTEGER, Examples: [417, 505, 395]),\n",
    "(NumGE1500:INTEGER, Examples: [14, 9, 5])\n",
    "]\n",
    "【Foreign keys】\n",
    "frpm.CDSCode=schools.CDSCode\n",
    "satscores.cds=schools.CDSCode\n",
    "\"\"\""
   ]
  },
  {
   "cell_type": "code",
   "execution_count": null,
   "id": "e4a801fd",
   "metadata": {},
   "outputs": [],
   "source": [
    "import asyncio\n",
    "import json\n",
    "from openai import OpenAI, AsyncOpenAI\n",
    "from pydantic import BaseModel\n",
    "from typing import List\n",
    "import anthropic\n",
    "import os\n",
    "\n",
    "# Initialize the synchronous and asynchronous clients\n",
    "client = OpenAI(timeout=60.)\n",
    "aclient = AsyncOpenAI(timeout=60.0)\n",
    "anthropic_client = anthropic.Anthropic(api_key=os.getenv(\"ANTHROPIC_API_KEY\"))\n",
    "# Use the asynchronous client for Anthropic as well\n",
    "anthropic_async_client = anthropic.AsyncAnthropic(api_key=os.getenv(\"ANTHROPIC_API_KEY\"))\n",
    "\n",
    "\n",
    "# Pydantic models (unchanged)\n",
    "class ColumnConnection(BaseModel):\n",
    "    input_words: str\n",
    "    related_column: str\n",
    "    rationale: str\n",
    "\n",
    "class SQLResponse(BaseModel):\n",
    "    cols_io_connection: List[ColumnConnection]\n",
    "    full_sql_query: str\n",
    "\n",
    "\n",
    "async def oai_call_async(system_prompt, user_prompt, model, temp=0.001, n=1, backup_model='gpt-4o-2024-08-06', effort='low', idx=0):\n",
    "    \"\"\"\n",
    "    An asynchronous version of oai_call that uses aclient for non-blocking API calls.\n",
    "    \"\"\"\n",
    "    raw_response_json = None\n",
    "    try:\n",
    "        if model in ['gpt-3.5-turbo', 'gpt-4-turbo', 'gpt-4o-2024-08-06', 'gpt-4o', 'gpt-4o-mini', 'gpt-4.1', 'gpt-4.1-mini', 'gpt-4.1-nano']:\n",
    "            response = await aclient.chat.completions.create(\n",
    "                model=model,\n",
    "                messages=[\n",
    "                    {\"role\": \"system\", \"content\": system_prompt},\n",
    "                    {\"role\": \"user\", \"content\": user_prompt}\n",
    "                ],\n",
    "                temperature=temp,\n",
    "                n=n,\n",
    "                response_format={\"type\": \"json_object\"},\n",
    "                seed=1234\n",
    "            )\n",
    "            try:\n",
    "                raw_response_json = response.model_dump_json(indent=2)\n",
    "            except:\n",
    "                raw_response_json = str(response)\n",
    "            if n == 1:\n",
    "                out = json.loads(response.choices[0].message.content)\n",
    "            else:\n",
    "                out = [json.loads(response.choices[i].message.content) for i in range(len(response.choices))]\n",
    "\n",
    "        elif model in ['gpt-5', 'gpt-5-mini', 'gpt-5-nano', 'o3', 'o3-mini', 'o4-mini']:\n",
    "            # Assuming client.responses.parse is a synchronous call, we run it in a separate thread\n",
    "            response = await asyncio.to_thread(\n",
    "                client.responses.parse,\n",
    "                model=model,\n",
    "                input=[\n",
    "                    {\"role\": \"system\", \"content\": system_prompt},\n",
    "                    {\"role\": \"user\", \"content\": user_prompt}\n",
    "                ],\n",
    "                text={\"format\": {\"type\": \"json_object\"}},\n",
    "                reasoning={\"effort\": effort, 'summary': 'detailed'}\n",
    "            )\n",
    "            try:\n",
    "                raw_response_json = response.model_dump_json(indent=2)\n",
    "            except:\n",
    "                raw_response_json = str(response)\n",
    "            out = json.loads(response.output[-1].content[0].text)\n",
    "            if n > 1:\n",
    "                out = [out] * n\n",
    "\n",
    "        elif model in ['claude-sonnet-4-20250514', 'claude-opus-4-20250514']:\n",
    "            thinking_budgets = {'low': 1024, 'high': 4096}\n",
    "            params = {\n",
    "                \"model\": model,\n",
    "                \"max_tokens\": 8000,\n",
    "                \"system\": system_prompt,\n",
    "                \"messages\": [{\"role\": \"user\", \"content\": [{\"type\": \"text\", \"text\": user_prompt}]}]\n",
    "            }\n",
    "            if effort in thinking_budgets:\n",
    "                params[\"thinking\"] = {\"type\": \"enabled\", \"budget_tokens\": thinking_budgets[effort]}\n",
    "\n",
    "            response = await anthropic_async_client.messages.create(**params)\n",
    "            try:\n",
    "                raw_response_json = response.model_dump_json(indent=2)\n",
    "            except:\n",
    "                raw_response_json = str(response)\n",
    "                \n",
    "            # Assuming client.responses.parse is a synchronous call, we run it in a separate thread\n",
    "            response_data = await asyncio.to_thread(\n",
    "                client.responses.parse,\n",
    "                model=\"gpt-4o\",\n",
    "                input=[\n",
    "                    {\"role\": \"system\", \"content\": \"Extract the json object from the following response. There should be only one json object in the response.\"},\n",
    "                    {\"role\": \"user\", \"content\": response.content[-1].text}\n",
    "                ],\n",
    "                text={\"format\": {\"type\": \"json_object\"}}\n",
    "            )\n",
    "            out = json.loads(response_data.output[-1].content[0].text)\n",
    "        else:\n",
    "            response = await aclient.chat.completions.create(\n",
    "                model=model,\n",
    "                messages=[\n",
    "                    {\"role\": \"system\", \"content\": system_prompt},\n",
    "                    {\"role\": \"user\", \"content\": user_prompt}\n",
    "                ],\n",
    "                temperature=temp,\n",
    "                n=n,\n",
    "            )\n",
    "            try:\n",
    "                raw_response_json = response.model_dump_json(indent=2)\n",
    "            except:\n",
    "                raw_response_json = str(response)\n",
    "            if n == 1:\n",
    "                out = response.choices[0].message.content\n",
    "            else:\n",
    "                out = [response.choices[i].message.content for i in range(len(response.choices))]\n",
    "\n",
    "    except Exception as e:\n",
    "        print(e)\n",
    "        print(f\"\\t{idx}: Switching to {backup_model}\", flush=True)\n",
    "        response = await aclient.chat.completions.create(\n",
    "            model=backup_model,\n",
    "            messages=[\n",
    "                {\"role\": \"system\", \"content\": system_prompt},\n",
    "                {\"role\": \"user\", \"content\": user_prompt}\n",
    "            ],\n",
    "            temperature=temp,\n",
    "            n=n,\n",
    "            response_format={\"type\": \"json_object\"},\n",
    "            seed=1234\n",
    "        )\n",
    "        try:\n",
    "            raw_response_json = response.model_dump_json(indent=2)\n",
    "        except:\n",
    "            raw_response_json = str(response)\n",
    "        if n == 1:\n",
    "            out = json.loads(response.choices[0].message.content)\n",
    "        else:\n",
    "            out = [json.loads(response.choices[i].message.content) for i in range(len(response.choices))]\n",
    "\n",
    "    return out, raw_response_json"
   ]
  },
  {
   "cell_type": "code",
   "execution_count": 18,
   "id": "ea4912c4",
   "metadata": {},
   "outputs": [],
   "source": [
    "import json\n",
    "import sqlite3\n",
    "import pandas as pd\n",
    "import time\n",
    "from tqdm import tqdm\n",
    "import traceback\n",
    "\n",
    "def query_database(db_path, query):\n",
    "    time_limit_ms = 10000\n",
    "\n",
    "    def progress_handler():\n",
    "        current_time = time.perf_counter()\n",
    "        ptime = (start_time + time_limit_ms / 1000) - current_time\n",
    "#         print(f\"Timer: {ptime}\", flush=True)\n",
    "        if current_time > (start_time + time_limit_ms / 1000):\n",
    "            return 1  \n",
    "        return 0\n",
    "\n",
    "    try:\n",
    "        conn = sqlite3.connect(db_path)\n",
    "        conn.set_progress_handler(progress_handler, 100000000)\n",
    "        start_time = time.perf_counter()        \n",
    "        cursor = conn.cursor()\n",
    "        cursor.execute(query)        \n",
    "        rows = cursor.fetchall()\n",
    "        df = pd.DataFrame(rows, columns=[desc[0] for desc in cursor.description])\n",
    "        conn.close()\n",
    "        return True, df\n",
    "\n",
    "    except Exception as e:\n",
    "        return False, str(e)"
   ]
  },
  {
   "cell_type": "code",
   "execution_count": 19,
   "id": "8fab6ad9",
   "metadata": {},
   "outputs": [],
   "source": [
    "cs_db_path = \"/Users/dsaluru/Desktop/GPU/bird-sql-forked/data/test_databases/california_schools/california_schools.sqlite\"\n"
   ]
  },
  {
   "cell_type": "code",
   "execution_count": 20,
   "id": "97019495",
   "metadata": {},
   "outputs": [
    {
     "name": "stdout",
     "output_type": "stream",
     "text": [
      "24 moderate Give the names of the schools with the percent eligible for free meals in K-12 is more than 0.1 and test takers whose test score is greater than or equal to 1500? Percent eligible for free meals = Free Meal Count (K-12) / Total (Enrollment (K-12) SELECT T2.`School Name` FROM satscores AS T1 INNER JOIN frpm AS T2 ON T1.cds = T2.CDSCode WHERE CAST(T2.`Free Meal Count (K-12)` AS REAL) / T2.`Enrollment (K-12)` > 0.1 AND T1.NumGE1500 > 0\n",
      "25 moderate Name schools in Riverside which the average of average math score for SAT is grater than 400, what is the funding type of these schools? Average of average math = sum(average math scores) / count(schools). SELECT T1.sname, T2.`Charter Funding Type` FROM satscores AS T1 INNER JOIN frpm AS T2 ON T1.cds = T2.CDSCode WHERE T2.`District Name` LIKE 'Riverside%' GROUP BY T1.sname, T2.`Charter Funding Type` HAVING CAST(SUM(T1.AvgScrMath) AS REAL) / COUNT(T1.cds) > 400\n",
      "26 moderate State the names and full communication address of high schools in Monterey which has more than 800 free or reduced price meals for ages 15-17? Full communication address should include Street, City, State and zip code if any. SELECT T1.`School Name`, T2.Street, T2.City, T2.State, T2.Zip FROM frpm AS T1 INNER JOIN schools AS T2 ON T1.CDSCode = T2.CDSCode WHERE T2.County = 'Monterey' AND T1.`Free Meal Count (Ages 5-17)` > 800 AND T1.`School Type` = 'High Schools (Public)'\n",
      "27 moderate What is the average score in writing for the schools that were opened after 1991 or closed before 2000? List the school names along with the score. Also, list the communication number of the schools if there is any. Communication number refers to phone number. SELECT T2.School, T1.AvgScrWrite, T2.Phone FROM schools AS T2 LEFT JOIN satscores AS T1 ON T2.CDSCode = T1.cds WHERE strftime('%Y', T2.OpenDate) > '1991' OR strftime('%Y', T2.ClosedDate) < '2000'\n",
      "37 moderate What is the complete address of the school with the lowest excellence rate? Indicate the Street, City, Zip and State. Execellence Rate = NumGE1500 / NumTstTakr; complete address has Street, City, State, Zip code SELECT T2.Street, T2.City, T2.State, T2.Zip FROM satscores AS T1 INNER JOIN schools AS T2 ON T1.cds = T2.CDSCode ORDER BY CAST(T1.NumGE1500 AS REAL) / T1.NumTstTakr ASC LIMIT 1\n",
      "40 moderate What is the telephone number for the school with the lowest average score in reading in Fresno Unified? Fresno Unified is a name of district; SELECT T2.Phone FROM satscores AS T1 INNER JOIN schools AS T2 ON T1.cds = T2.CDSCode WHERE T2.District = 'Fresno Unified' AND T1.AvgScrRead IS NOT NULL ORDER BY T1.AvgScrRead ASC LIMIT 1\n",
      "77 moderate Which schools served a grade span of Kindergarten to 9th grade in the county of Los Angeles and what is its Percent (%) Eligible FRPM (Ages 5-17)? Percent (%) Eligible FRPM (Ages 5-17) can be acquired by `FRPM Count (Ages 5-17)` / `Enrollment (Ages 5-17)` * 100 SELECT T2.School, T1.`FRPM Count (Ages 5-17)` * 100 / T1.`Enrollment (Ages 5-17)` FROM frpm AS T1 INNER JOIN schools AS T2 ON T1.CDSCode = T2.CDSCode WHERE T2.County = 'Los Angeles' AND T2.GSserved = 'K-9'\n",
      "85 moderate What is the Percent (%) Eligible Free (K-12) in the school administered by an administrator whose first name is Alusine. List the district code of the school. Percent (%) Eligible Free (K-12) = `Free Meal Count (K-12)` / `Enrollment (K-12)` * 100% SELECT T1.`Free Meal Count (K-12)` * 100 / T1.`Enrollment (K-12)`, T1.`District Code` FROM frpm AS T1 INNER JOIN schools AS T2 ON T1.CDSCode = T2.CDSCode WHERE T2.AdmFName1 = 'Alusine'\n"
     ]
    }
   ],
   "source": [
    "for key in final_rewards_data_cs:\n",
    "    data = final_rewards_data_cs[key]\n",
    "    question = data['question']\n",
    "    hint = data['evidence']\n",
    "    candidate_sqls_output = [x[1] for x in data['responses'][:5]]\n",
    "    if data['difficulty'] in ['moderate']:\n",
    "        if 'pass: correct' != candidate_sqls_output[0]:\n",
    "            print(key, data['difficulty'], question, hint, data['SQL'])"
   ]
  },
  {
   "cell_type": "code",
   "execution_count": 21,
   "id": "16a122c9",
   "metadata": {},
   "outputs": [
    {
     "name": "stdout",
     "output_type": "stream",
     "text": [
      "36\n"
     ]
    }
   ],
   "source": [
    "for key in final_rewards_data:\n",
    "    data = final_rewards_data[key]\n",
    "    if 'at most' in data['evidence'].lower():\n",
    "        print(key)"
   ]
  },
  {
   "cell_type": "code",
   "execution_count": 38,
   "id": "60da2d56",
   "metadata": {},
   "outputs": [],
   "source": [
    "curr_index = 85"
   ]
  },
  {
   "cell_type": "code",
   "execution_count": 39,
   "id": "3f7a7443",
   "metadata": {},
   "outputs": [
    {
     "name": "stdout",
     "output_type": "stream",
     "text": [
      "Question:  What is the Percent (%) Eligible Free (K-12) in the school administered by an administrator whose first name is Alusine. List the district code of the school.\n",
      "Evidence:  Percent (%) Eligible Free (K-12) = `Free Meal Count (K-12)` / `Enrollment (K-12)` * 100%\n",
      "Golden SQL:  SELECT T1.`Free Meal Count (K-12)` * 100 / T1.`Enrollment (K-12)`, T1.`District Code` FROM frpm AS T1 INNER JOIN schools AS T2 ON T1.CDSCode = T2.CDSCode WHERE T2.AdmFName1 = 'Alusine'\n",
      "Gen SQL:  SELECT T2.\"Percent (%) Eligible Free (K-12)\", T2.\"District Code\" FROM schools AS T1 INNER JOIN frpm AS T2 ON T1.CDSCode = T2.CDSCode WHERE T1.AdmFName1 = 'Alusine'\n"
     ]
    }
   ],
   "source": [
    "print(\"Question: \", final_rewards_data_cs[curr_index]['question'])\n",
    "print(\"Evidence: \", final_rewards_data_cs[curr_index]['evidence'])\n",
    "print(\"Golden SQL: \", final_rewards_data_cs[curr_index]['SQL'])\n",
    "print(\"Gen SQL: \", final_rewards_data_cs[curr_index]['responses'][0][0])"
   ]
  },
  {
   "cell_type": "code",
   "execution_count": 40,
   "id": "130237d9",
   "metadata": {},
   "outputs": [
    {
     "data": {
      "text/plain": [
       "(True,\n",
       "    T1.`Free Meal Count (K-12)` * 100 / T1.`Enrollment (K-12)`  District Code\n",
       " 0                                          70.151134                   64857)"
      ]
     },
     "execution_count": 40,
     "metadata": {},
     "output_type": "execute_result"
    }
   ],
   "source": [
    "query_database(cs_db_path, final_rewards_data_cs[curr_index]['SQL'])"
   ]
  },
  {
   "cell_type": "code",
   "execution_count": 41,
   "id": "6ba7d5e6",
   "metadata": {},
   "outputs": [
    {
     "data": {
      "text/plain": [
       "(True,\n",
       "    Percent (%) Eligible Free (K-12)  District Code\n",
       " 0                          0.701511          64857)"
      ]
     },
     "execution_count": 41,
     "metadata": {},
     "output_type": "execute_result"
    }
   ],
   "source": [
    "query_database(cs_db_path, final_rewards_data_cs[curr_index]['responses'][0][0])"
   ]
  },
  {
   "cell_type": "code",
   "execution_count": 46,
   "id": "0533a052",
   "metadata": {},
   "outputs": [],
   "source": [
    "query = \"\"\"SELECT T2.`Free Meal Count (K-12)` * 100 / T2.`Enrollment (K-12)`, T2.\"District Code\" FROM schools AS T1 INNER JOIN frpm AS T2 ON T1.CDSCode = T2.CDSCode WHERE T1.AdmFName1 = 'Alusine'\"\"\""
   ]
  },
  {
   "cell_type": "code",
   "execution_count": 47,
   "id": "27809e29",
   "metadata": {},
   "outputs": [
    {
     "data": {
      "text/plain": [
       "(True,\n",
       "    T2.`Free Meal Count (K-12)` * 100 / T2.`Enrollment (K-12)`  District Code\n",
       " 0                                          70.151134                   64857)"
      ]
     },
     "execution_count": 47,
     "metadata": {},
     "output_type": "execute_result"
    }
   ],
   "source": [
    "query_database(cs_db_path, query)"
   ]
  },
  {
   "cell_type": "code",
   "execution_count": null,
   "id": "b498b75f",
   "metadata": {},
   "outputs": [],
   "source": [
    "SELECT CharterNum, AvgScrWrite, RANK() OVER (ORDER BY AvgScrWrite DESC) AS WritingScoreRank FROM schools AS T1  INNER JOIN satscores AS T2 ON T1.CDSCode = T2.cds WHERE T2.AvgScrWrite > 499 AND CharterNum is not null"
   ]
  },
  {
   "cell_type": "code",
   "execution_count": 234,
   "id": "5edcb262",
   "metadata": {},
   "outputs": [
    {
     "data": {
      "text/plain": [
       "'SELECT T2.CharterNum FROM satscores AS T1 INNER JOIN schools AS T2 ON T1.cds = T2.CDSCode WHERE T1.AvgScrWrite > 499 AND T2.CharterNum IS NOT NULL ORDER BY T1.AvgScrWrite DESC'"
      ]
     },
     "execution_count": 234,
     "metadata": {},
     "output_type": "execute_result"
    }
   ],
   "source": [
    "final_rewards_data_cs[17]['responses'][0][0]"
   ]
  },
  {
   "cell_type": "code",
   "execution_count": 226,
   "id": "fea77a85",
   "metadata": {},
   "outputs": [
    {
     "data": {
      "text/plain": [
       "8"
      ]
     },
     "execution_count": 226,
     "metadata": {},
     "output_type": "execute_result"
    }
   ],
   "source": [
    "moderate_hard"
   ]
  },
  {
   "cell_type": "code",
   "execution_count": 228,
   "id": "5bc72844",
   "metadata": {},
   "outputs": [
    {
     "name": "stdout",
     "output_type": "stream",
     "text": [
      "\n",
      "【DB_ID】 california_schools\n",
      "【Schema】\n",
      "# Table: frpm\n",
      "[\n",
      "(CDSCode:TEXT, Primary Key, Examples: [01100170109835, 01100170112607, 01100170118489]),\n",
      "(Academic Year:TEXT, Examples: [2014-2015]),\n",
      "(County Code:TEXT, Examples: [01, 02, 03]),\n",
      "(District Code:INTEGER, Examples: [10017, 31609, 31617]),\n",
      "(School Code:TEXT, Examples: [0109835, 0112607, 0118489]),\n",
      "(County Name:TEXT, Examples: [Alameda, Alpine, Amador]),\n",
      "(District Name:TEXT),\n",
      "(School Name:TEXT, Examples: [FAME Public Charter]),\n",
      "(District Type:TEXT, Examples: [County Office of Education (COE)]),\n",
      "(School Type:TEXT, Examples: [K-12 Schools (Public)]),\n",
      "(Educational Option Type:TEXT, Examples: [Traditional]),\n",
      "(NSLP Provision Status:TEXT, Examples: [Breakfast Provision 2]),\n",
      "(Charter School (Y/N):INTEGER, Examples: [1, 0]),\n",
      "(Charter School Number:TEXT, Examples: [0728, 0811, 1049]),\n",
      "(Charter Funding Type:TEXT, Examples: [Directly funded]),\n",
      "(IRC:INTEGER, Examples: [1, 0]),\n",
      "(Low Grade:TEXT, Examples: [K, 9, 1]),\n",
      "(High Grade:TEXT, Examples: [12, 8, 5]),\n",
      "(Enrollment (K-12):REAL, Examples: [1087.0, 395.0, 244.0]),\n",
      "(Free Meal Count (K-12):REAL, Examples: [565.0, 186.0, 134.0]),\n",
      "(Percent (%) Eligible Free (K-12):REAL, Examples: [0.519779208831647, 0.470886075949367, 0.549180327868853]),\n",
      "(FRPM Count (K-12):REAL, Examples: [715.0, 186.0, 175.0]),\n",
      "(Percent (%) Eligible FRPM (K-12):REAL, Examples: [0.657773689052438, 0.470886075949367, 0.717213114754098]),\n",
      "(Enrollment (Ages 5-17):REAL, Examples: [1070.0, 376.0, 230.0]),\n",
      "(Free Meal Count (Ages 5-17):REAL, Examples: [553.0, 182.0, 128.0]),\n",
      "(Percent (%) Eligible Free (Ages 5-17):REAL, Examples: [0.516822429906542, 0.484042553191489, 0.556521739130435]),\n",
      "(FRPM Count (Ages 5-17):REAL, Examples: [702.0, 182.0, 168.0]),\n",
      "(Percent (%) Eligible FRPM (Ages 5-17):REAL, Examples: [0.65607476635514, 0.484042553191489, 0.730434782608696]),\n",
      "(2013-14 CALPADS Fall 1 Certification Status:INTEGER, Examples: [1])\n",
      "]\n",
      "# Table: schools\n",
      "[\n",
      "(CDSCode:TEXT, Primary Key, Examples: [01100170000000, 01100170109835, 01100170112607]),\n",
      "(NCESDist:TEXT, Examples: [0691051, 0600002, 0600003]),\n",
      "(NCESSchool:TEXT, Examples: [10546, 10947, 12283]),\n",
      "(StatusType:TEXT, Examples: [Active, Closed, Merged]),\n",
      "(County:TEXT, Examples: [Alameda, Alpine, Amador]),\n",
      "(District:TEXT),\n",
      "(School:TEXT, Examples: [FAME Public Charter]),\n",
      "(Street:TEXT, Examples: [313 West Winton Avenue]),\n",
      "(StreetAbr:TEXT, Examples: [313 West Winton Ave.]),\n",
      "(City:TEXT, Examples: [Hayward, Newark, Oakland]),\n",
      "(Zip:TEXT, Examples: [94544-1136, 94560-5359, 94612-3355]),\n",
      "(State:TEXT, Examples: [CA]),\n",
      "(MailStreet:TEXT, Examples: [313 West Winton Avenue]),\n",
      "(MailStrAbr:TEXT, Examples: [313 West Winton Ave.]),\n",
      "(MailCity:TEXT, Examples: [Hayward, Newark, Oakland]),\n",
      "(MailZip:TEXT, Examples: [94544-1136, 94560-5359, 94612]),\n",
      "(MailState:TEXT, Examples: [CA]),\n",
      "(Phone:TEXT, Examples: [(510) 887-0152, (510) 596-8901, (510) 686-4131]),\n",
      "(Ext:TEXT, Examples: [130, 1240, 1200]),\n",
      "(Website:TEXT, Examples: [www.acoe.org]),\n",
      "(OpenDate:DATE, Examples: [2005-08-29]),\n",
      "(ClosedDate:DATE, Examples: [2015-07-31]),\n",
      "(Charter:INTEGER, Examples: [1, 0]),\n",
      "(CharterNum:TEXT, Examples: [0728, 0811, 1049]),\n",
      "(FundingType:TEXT, Examples: [Directly funded]),\n",
      "(DOC:TEXT, Examples: [00, 31, 34]),\n",
      "(DOCType:TEXT, Examples: [County Office of Education (COE)]),\n",
      "(SOC:TEXT, Examples: [65, 66, 60]),\n",
      "(SOCType:TEXT, Examples: [K-12 Schools (Public)]),\n",
      "(EdOpsCode:TEXT, Examples: [TRAD, JUV, COMM]),\n",
      "(EdOpsName:TEXT, Examples: [Traditional]),\n",
      "(EILCode:TEXT, Examples: [ELEMHIGH, HS, ELEM]),\n",
      "(EILName:TEXT, Examples: [Elementary-High Combination]),\n",
      "(GSoffered:TEXT, Examples: [K-12, 9-12, K-8]),\n",
      "(GSserved:TEXT, Examples: [K-12, 9-12, K-7]),\n",
      "(Virtual:TEXT, Examples: [P, N, F]),\n",
      "(Magnet:INTEGER, Examples: [0, 1]),\n",
      "(Latitude:REAL, Examples: [37.658212, 37.521436, 37.80452]),\n",
      "(Longitude:REAL, Examples: [-122.09713, -121.99391, -122.26815]),\n",
      "(AdmFName1:TEXT, Examples: [L Karen, Laura, Clifford]),\n",
      "(AdmLName1:TEXT, Examples: [Monroe, Robell, Thompson]),\n",
      "(AdmEmail1:TEXT),\n",
      "(AdmFName2:TEXT, Examples: [Sau-Lim (Lance), Jennifer, Annalisa]),\n",
      "(AdmLName2:TEXT, Examples: [Tsang, Koelling, Moore]),\n",
      "(AdmEmail2:TEXT),\n",
      "(AdmFName3:TEXT, Examples: [Drew, Irma, Vickie]),\n",
      "(AdmLName3:TEXT, Examples: [Sarratore, Munoz, Chang]),\n",
      "(AdmEmail3:TEXT),\n",
      "(LastUpdate:DATE, Examples: [2015-06-23])\n",
      "]\n",
      "# Table: satscores\n",
      "[\n",
      "(cds:TEXT, Primary Key, Examples: [10101080000000, 10101080109991, 10101080111682]),\n",
      "(rtype:TEXT, Examples: [D, S]),\n",
      "(sname:TEXT, Examples: [FAME Public Charter]),\n",
      "(dname:TEXT, Examples: [Alameda County Office of Education]),\n",
      "(cname:TEXT, Examples: [Alameda, Amador, Butte]),\n",
      "(enroll12:INTEGER, Examples: [398, 62, 75]),\n",
      "(NumTstTakr:INTEGER, Examples: [88, 17, 71]),\n",
      "(AvgScrRead:INTEGER, Examples: [418, 503, 397]),\n",
      "(AvgScrMath:INTEGER, Examples: [418, 546, 387]),\n",
      "(AvgScrWrite:INTEGER, Examples: [417, 505, 395]),\n",
      "(NumGE1500:INTEGER, Examples: [14, 9, 5])\n",
      "]\n",
      "【Foreign keys】\n",
      "frpm.CDSCode=schools.CDSCode\n",
      "satscores.cds=schools.CDSCode\n",
      "\n"
     ]
    }
   ],
   "source": [
    "print(california_schools_db_schema)"
   ]
  },
  {
   "cell_type": "code",
   "execution_count": null,
   "id": "52ebc9bc",
   "metadata": {},
   "outputs": [],
   "source": []
  }
 ],
 "metadata": {
  "kernelspec": {
   "display_name": "contextual-ai",
   "language": "python",
   "name": "python3"
  },
  "language_info": {
   "codemirror_mode": {
    "name": "ipython",
    "version": 3
   },
   "file_extension": ".py",
   "mimetype": "text/x-python",
   "name": "python",
   "nbconvert_exporter": "python",
   "pygments_lexer": "ipython3",
   "version": "3.10.18"
  }
 },
 "nbformat": 4,
 "nbformat_minor": 5
}
