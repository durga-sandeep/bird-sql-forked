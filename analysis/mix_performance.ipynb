{
 "cells": [
  {
   "cell_type": "code",
   "execution_count": 1,
   "id": "5e210bd2",
   "metadata": {},
   "outputs": [],
   "source": [
    "from pathlib import Path\n",
    "import json\n",
    "BASE_DIR = Path(\"/home/ubuntu/bird-sql-forked/save_data/qwen2.5\")\n",
    "\n",
    "GENERATION_DIR = BASE_DIR / \"generations\"\n",
    "RESULTS_DIR = BASE_DIR / \"with_results\"\n",
    "REWARD_DIR = BASE_DIR / \"with_rewards\""
   ]
  },
  {
   "cell_type": "code",
   "execution_count": 2,
   "id": "b91fe2e0",
   "metadata": {},
   "outputs": [],
   "source": [
    "final_rewards_data_qwen25 = {}\n",
    "with open(REWARD_DIR / \"data_reward_all.jsonl\", \"r\") as f:\n",
    "    for line in f:\n",
    "        data = json.loads(line)\n",
    "\n",
    "        if data['question_id'] not in final_rewards_data_qwen25:\n",
    "            final_rewards_data_qwen25[data['question_id']] = {\n",
    "                'question_id' : data['question_id'],\n",
    "                'db_id' : data['db_id'],\n",
    "                'question' : data['question'],\n",
    "                'evidence' : data['evidence'],\n",
    "                'SQL' : data['SQL'],\n",
    "                'difficulty' : data['difficulty'],\n",
    "                'responses' : []\n",
    "            }\n",
    "        curr_responses = []\n",
    "        for item in data['responses']:\n",
    "            if data['responses'][item]['evaluation'].split(':')[0] == 'pass' and data['responses'][item]['reward'] != None:\n",
    "                curr_responses.append((data['responses'][item]['content'], data['responses'][item]['evaluation'], data['responses'][item]['reward']))\n",
    "        final_rewards_data_qwen25[data['question_id']]['responses'] += curr_responses"
   ]
  },
  {
   "cell_type": "code",
   "execution_count": 3,
   "id": "c38a1276",
   "metadata": {},
   "outputs": [],
   "source": [
    "for key in final_rewards_data_qwen25:\n",
    "    final_rewards_data_qwen25[key]['responses'].sort(key=lambda x: x[2], reverse=True)"
   ]
  },
  {
   "cell_type": "code",
   "execution_count": 7,
   "id": "7cb050b7",
   "metadata": {},
   "outputs": [],
   "source": [
    "from pathlib import Path\n",
    "import json\n",
    "BASE_DIR = Path(\"/home/ubuntu/bird-sql-forked/save_data/qwen2.5_with_golden_schema\")\n",
    "\n",
    "GENERATION_DIR = BASE_DIR / \"generations\"\n",
    "RESULTS_DIR = BASE_DIR / \"with_results\"\n",
    "REWARD_DIR = BASE_DIR / \"with_rewards\"\n",
    "\n",
    "final_rewards_data_qwen3 = {}\n",
    "with open(REWARD_DIR / \"data_reward_all.jsonl\", \"r\") as f:\n",
    "    for line in f:\n",
    "        data = json.loads(line)\n",
    "\n",
    "        if data['question_id'] not in final_rewards_data_qwen3:\n",
    "            final_rewards_data_qwen3[data['question_id']] = {\n",
    "                'question_id' : data['question_id'],\n",
    "                'db_id' : data['db_id'],\n",
    "                'question' : data['question'],\n",
    "                'evidence' : data['evidence'],\n",
    "                'SQL' : data['SQL'],\n",
    "                'difficulty' : data['difficulty'],\n",
    "                'responses' : []\n",
    "            }\n",
    "        curr_responses = []\n",
    "        for item in data['responses']:\n",
    "            if data['responses'][item]['evaluation'] and data['responses'][item]['evaluation'].split(':')[0] == 'pass' and data['responses'][item]['reward'] != None:\n",
    "                curr_responses.append((data['responses'][item]['content'], data['responses'][item]['evaluation'], data['responses'][item]['reward']))\n",
    "        final_rewards_data_qwen3[data['question_id']]['responses'] += curr_responses\n",
    "\n",
    "for key in final_rewards_data_qwen3:\n",
    "    final_rewards_data_qwen3[key]['responses'].sort(key=lambda x: x[2], reverse=True)"
   ]
  },
  {
   "cell_type": "code",
   "execution_count": 8,
   "id": "f91138b3",
   "metadata": {},
   "outputs": [
    {
     "data": {
      "text/plain": [
       "'pass: incorrect'"
      ]
     },
     "execution_count": 8,
     "metadata": {},
     "output_type": "execute_result"
    }
   ],
   "source": [
    "data['responses'][item]['evaluation']"
   ]
  },
  {
   "cell_type": "code",
   "execution_count": 12,
   "id": "eb4ec811",
   "metadata": {},
   "outputs": [
    {
     "name": "stdout",
     "output_type": "stream",
     "text": [
      "accuracy for k =  1  is  0.708\n",
      "accuracy for k =  2  is  0.72\n",
      "accuracy for k =  3  is  0.73\n",
      "accuracy for k =  4  is  0.738\n",
      "accuracy for k =  5  is  0.75\n",
      "accuracy for k =  6  is  0.758\n",
      "accuracy for k =  7  is  0.766\n",
      "accuracy for k =  8  is  0.772\n",
      "accuracy for k =  9  is  0.774\n",
      "accuracy for k =  10  is  0.776\n",
      "accuracy for k =  11  is  0.786\n",
      "accuracy for k =  12  is  0.786\n",
      "accuracy for k =  13  is  0.786\n",
      "accuracy for k =  14  is  0.792\n",
      "accuracy for k =  15  is  0.792\n",
      "accuracy for k =  16  is  0.792\n",
      "accuracy for k =  17  is  0.796\n",
      "accuracy for k =  18  is  0.804\n",
      "accuracy for k =  19  is  0.806\n"
     ]
    }
   ],
   "source": [
    "for k in range(1, 20):\n",
    "    accuracy = 0\n",
    "    for key in final_rewards_data_qwen3:\n",
    "        all_candidates_rewards_score_qwen3 = [x[2] for x in final_rewards_data_qwen3[key]['responses']]\n",
    "        all_candidates_rewards_qwen3 = [x[1] for x in final_rewards_data_qwen3[key]['responses']]\n",
    "        all_candidates_sqls_qwen3 = [x[0] for x in final_rewards_data_qwen3[key]['responses']]\n",
    "\n",
    "        all_candidates_rewards_score_qwen25 = [x[2] for x in final_rewards_data_qwen25[key]['responses']]\n",
    "        all_candidates_rewards_qwen25 = [x[1] for x in final_rewards_data_qwen25[key]['responses']]\n",
    "        all_candidates_sqls_qwen25 = [x[0] for x in final_rewards_data_qwen25[key]['responses']]\n",
    "\n",
    "        all_candidates_rewards_score = all_candidates_rewards_score_qwen3 + all_candidates_rewards_score_qwen25\n",
    "        all_candidates_rewards = all_candidates_rewards_qwen3 + all_candidates_rewards_qwen25\n",
    "        all_candidates_sqls = all_candidates_sqls_qwen3 + all_candidates_sqls_qwen25\n",
    "\n",
    "        all_candidates = zip(all_candidates_sqls, all_candidates_rewards, all_candidates_rewards_score)\n",
    "        all_candidates = sorted(all_candidates, key=lambda x: x[2], reverse=True)\n",
    "\n",
    "        top_k_candidates_rewards_score = [x[2] for x in all_candidates[:k]]\n",
    "        top_k_candidates_rewards = [x[1] for x in all_candidates[:k]]\n",
    "        top_k_candidates_sqls = [x[0] for x in all_candidates[:k]]\n",
    "\n",
    "        if len(final_rewards_data_qwen3[key]['responses']) or len(final_rewards_data_qwen3[key]['responses']) > 0:\n",
    "            if 'pass: correct' in top_k_candidates_rewards:\n",
    "                accuracy += 1\n",
    "    accuracy /= len(final_rewards_data_qwen3)\n",
    "    print(\"accuracy for k = \", k, \" is \", accuracy)"
   ]
  },
  {
   "cell_type": "code",
   "execution_count": null,
   "id": "25807372",
   "metadata": {},
   "outputs": [],
   "source": []
  },
  {
   "cell_type": "code",
   "execution_count": null,
   "id": "a9533bb4",
   "metadata": {},
   "outputs": [],
   "source": []
  }
 ],
 "metadata": {
  "kernelspec": {
   "display_name": "bird-sql",
   "language": "python",
   "name": "python3"
  },
  "language_info": {
   "codemirror_mode": {
    "name": "ipython",
    "version": 3
   },
   "file_extension": ".py",
   "mimetype": "text/x-python",
   "name": "python",
   "nbconvert_exporter": "python",
   "pygments_lexer": "ipython3",
   "version": "3.10.18"
  }
 },
 "nbformat": 4,
 "nbformat_minor": 5
}
